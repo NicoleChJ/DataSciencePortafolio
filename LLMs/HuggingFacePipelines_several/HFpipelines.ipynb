{
 "cells": [
  {
   "cell_type": "markdown",
   "metadata": {},
   "source": [
    "# HuggingFace Pipelines"
   ]
  },
  {
   "cell_type": "code",
   "execution_count": 45,
   "metadata": {},
   "outputs": [],
   "source": [
    "!pip install -q transformers datasets diffusers"
   ]
  },
  {
   "cell_type": "code",
   "execution_count": 46,
   "metadata": {},
   "outputs": [],
   "source": [
    "# Imports\n",
    "\n",
    "import torch\n",
    "import os\n",
    "from dotenv import load_dotenv\n",
    "from huggingface_hub import login\n",
    "from transformers import pipeline\n",
    "import logging\n"
   ]
  },
  {
   "cell_type": "code",
   "execution_count": 47,
   "metadata": {},
   "outputs": [
    {
     "name": "stderr",
     "output_type": "stream",
     "text": [
      "Note: Environment variable`HF_TOKEN` is set and is the current active token independently from the token you've just configured.\n"
     ]
    }
   ],
   "source": [
    "# Constants\n",
    "\n",
    "load_dotenv()\n",
    "\n",
    "\n",
    "logging.getLogger(\"transformers\").setLevel(logging.ERROR) # Suppress warnings from Hugging Face transformers library\n",
    "\n",
    "hf_token = os.getenv('HF_TOKEN')\n",
    "if hf_token:\n",
    "    login(hf_token, add_to_git_credential=True)\n",
    "else:\n",
    "    print(\"Error: HF_TOKEN is not set.\")"
   ]
  },
  {
   "cell_type": "markdown",
   "metadata": {},
   "source": [
    "### Pipelines"
   ]
  },
  {
   "cell_type": "code",
   "execution_count": 48,
   "metadata": {},
   "outputs": [
    {
     "name": "stdout",
     "output_type": "stream",
     "text": [
      "[{'label': 'POSITIVE', 'score': 0.9993460774421692}]\n"
     ]
    }
   ],
   "source": [
    "# Sentiment Analysis\n",
    "\n",
    "#classifier = pipeline(\"sentiment-analysis\", device=\"cuda\") #CUDA is a technology developed by NVIDIA for using GPUs to accelerate computing tasks for example in Colab\n",
    "classifier = pipeline(\"sentiment-analysis\", device=-1)  \n",
    "result = classifier(\"I'm super excited to be on the way to LLM mastery!\")\n",
    "print(result)"
   ]
  },
  {
   "cell_type": "code",
   "execution_count": 49,
   "metadata": {},
   "outputs": [
    {
     "name": "stdout",
     "output_type": "stream",
     "text": [
      "[{'entity_group': 'PER', 'score': 0.99918306, 'word': 'Barack Obama', 'start': 0, 'end': 12}, {'entity_group': 'LOC', 'score': 0.9986908, 'word': 'United States', 'start': 43, 'end': 56}]\n"
     ]
    }
   ],
   "source": [
    "# Named Entity Recognition\n",
    "\n",
    "ner = pipeline(\"ner\", grouped_entities=True, device=-1)  #cuda\n",
    "result = ner(\"Barack Obama was the 44th president of the United States.\")\n",
    "print(result)"
   ]
  },
  {
   "cell_type": "code",
   "execution_count": 50,
   "metadata": {},
   "outputs": [
    {
     "name": "stdout",
     "output_type": "stream",
     "text": [
      "{'score': 0.9889456033706665, 'start': 0, 'end': 12, 'answer': 'Barack Obama'}\n"
     ]
    }
   ],
   "source": [
    "# Question Answering with Context\n",
    "\n",
    "question_answerer = pipeline(\"question-answering\", device=-1) #cuda\n",
    "result = question_answerer(question=\"Who was the 44th president of the United States?\", context=\"Barack Obama was the 44th president of the United States.\")\n",
    "print(result)"
   ]
  },
  {
   "cell_type": "code",
   "execution_count": 51,
   "metadata": {},
   "outputs": [
    {
     "name": "stdout",
     "output_type": "stream",
     "text": [
      " The Hugging Face transformers library is an incredibly versatile and powerful tool for natural language processing . It allows users to perform a wide range of tasks such as text classification, named entity recognition, and question answering .\n"
     ]
    }
   ],
   "source": [
    "# Text Summarization\n",
    "\n",
    "summarizer = pipeline(\"summarization\", device=-1) #cuda\n",
    "text = \"\"\"The Hugging Face transformers library is an incredibly versatile and powerful tool for natural language processing (NLP).\n",
    "It allows users to perform a wide range of tasks such as text classification, named entity recognition, and question answering, among others.\n",
    "It's an extremely popular library that's widely used by the open-source data science community.\n",
    "It lowers the barrier to entry into the field by providing Data Scientists with a productive, convenient way to work with transformer models.\n",
    "\"\"\"\n",
    "summary = summarizer(text, max_length=50, min_length=25, do_sample=False)\n",
    "print(summary[0]['summary_text'])"
   ]
  },
  {
   "cell_type": "code",
   "execution_count": 52,
   "metadata": {},
   "outputs": [
    {
     "name": "stdout",
     "output_type": "stream",
     "text": [
      "Les Data Scientists ont été vraiment étonnés par la puissance et la simplicité de l'API du pipeline HuggingFace.\n",
      "Los científicos de datos estaban verdaderamente sorprendidos por el poder y la simplicidad de la API de tuberías HuggingFace.\n"
     ]
    }
   ],
   "source": [
    "# Translation\n",
    "\n",
    "translator = pipeline(\"translation_en_to_fr\", device=-1)  #cuda\n",
    "result = translator(\"The Data Scientists were truly amazed by the power and simplicity of the HuggingFace pipeline API.\")\n",
    "print(result[0]['translation_text']) \n",
    "\n",
    "translator = pipeline(\"translation_en_to_es\", model=\"Helsinki-NLP/opus-mt-en-es\", device=-1) #cuda\n",
    "result = translator(\"The Data Scientists were truly amazed by the power and simplicity of the HuggingFace pipeline API.\")\n",
    "print(result[0]['translation_text'])"
   ]
  },
  {
   "cell_type": "code",
   "execution_count": 53,
   "metadata": {},
   "outputs": [
    {
     "name": "stdout",
     "output_type": "stream",
     "text": [
      "{'sequence': \"Hugging Face's Transformers library is amazing!\", 'labels': ['technology', 'sports', 'politics'], 'scores': [0.9493837952613831, 0.032250192016363144, 0.018366027623414993]}\n"
     ]
    }
   ],
   "source": [
    "# Classification\n",
    "\n",
    "classifier = pipeline(\"zero-shot-classification\", device=-1) #cuda\n",
    "result = classifier(\"Hugging Face's Transformers library is amazing!\", candidate_labels=[\"technology\", \"sports\", \"politics\"])\n",
    "print(result)"
   ]
  },
  {
   "cell_type": "code",
   "execution_count": 57,
   "metadata": {},
   "outputs": [
    {
     "name": "stdout",
     "output_type": "stream",
     "text": [
      "If there's one thing I want you to remember about using HuggingFace pipelines, it's that it's a tool that is really useful for getting a sense of the world around you and how you interact with people.\n",
      "\n",
      "We've seen many of the same things happen with HuggingFace. I mean, I've had friends who used it for quite a while, but they just couldn't figure out how to use it. I just used it to try and get a sense of the world\n"
     ]
    }
   ],
   "source": [
    "# Text Generation\n",
    "\n",
    "generator = pipeline(\"text-generation\", device=-1) #cuda\n",
    "\n",
    "result = generator(\"If there's one thing I want you to remember about using HuggingFace pipelines, it's\", max_length=100,\n",
    "    temperature=0.7,\n",
    "    top_p=0.9,\n",
    "    do_sample=True)\n",
    "print(result[0]['generated_text'])"
   ]
  }
 ],
 "metadata": {
  "kernelspec": {
   "display_name": "llms",
   "language": "python",
   "name": "python3"
  },
  "language_info": {
   "codemirror_mode": {
    "name": "ipython",
    "version": 3
   },
   "file_extension": ".py",
   "mimetype": "text/x-python",
   "name": "python",
   "nbconvert_exporter": "python",
   "pygments_lexer": "ipython3",
   "version": "3.11.11"
  }
 },
 "nbformat": 4,
 "nbformat_minor": 2
}
