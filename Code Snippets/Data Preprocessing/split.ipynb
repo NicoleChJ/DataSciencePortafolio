{
 "cells": [
  {
   "cell_type": "markdown",
   "metadata": {},
   "source": [
    "Data splitting is the process of dividing a dataset into separate subsets to train and evaluate a machine learning model. The common types of splits are:\n",
    "- Training Set:\tUsed to train the model\t60-80%\n",
    "- Validation Set: Used to tune hyperparameters and prevent overfitting\t10-20%\n",
    "- Test Set:\tUsed for final model evaluation\t10-20%\n",
    "\n",
    "Important Considerations:\n",
    "* Stratification: Used for classification problems to ensure the same class distribution across splits.\n",
    "* Shuffle: Helps avoid any bias due to the dataset’s original order.\n",
    "* Time Series Consideration: In time-series models, data should not be randomly split but preserve chronological order to prevent future data from leaking into training."
   ]
  },
  {
   "cell_type": "code",
   "execution_count": null,
   "metadata": {},
   "outputs": [],
   "source": [
    "# Clasical test and training dataset\n",
    "\n",
    "import pandas as pd\n",
    "import numpy as np\n",
    "from sklearn.model_selection import train_test_split\n",
    "\n",
    "# Load dataset (Titanic as an example)\n",
    "df = pd.read_csv(\"titanic.csv\")\n",
    "\n",
    "# Define features (X) and target variable (y)\n",
    "X = df.drop(columns=['Survived'])  # Independent variables\n",
    "y = df['Survived']  # Target variable\n",
    "\n",
    "# Perform train-test split (80% training, 20% testing)\n",
    "X_train, X_test, y_train, y_test = train_test_split(X, y, test_size=0.2, random_state=42)\n",
    "\n",
    "# Check the shape of the datasets\n",
    "print(f\"Train Set: {X_train.shape}, Test Set: {X_test.shape}\")\n"
   ]
  },
  {
   "cell_type": "code",
   "execution_count": null,
   "metadata": {},
   "outputs": [],
   "source": [
    "# Test, training and validation set for hyperparameter tunning\n",
    "\n",
    "# First, split into training and test sets\n",
    "X_train, X_test, y_train, y_test = train_test_split(X, y, test_size=0.2, random_state=42)\n",
    "\n",
    "# Split the training data further into training and validation sets (80-10-10 rule), 0.125 of 80% = 10% of total data, leaving 70% for training.\n",
    "X_train, X_val, y_train, y_val = train_test_split(X_train, y_train, test_size=0.125, random_state=42)\n",
    "\n",
    "print(f\"Train Set: {X_train.shape}, Validation Set: {X_val.shape}, Test Set: {X_test.shape}\")\n"
   ]
  },
  {
   "cell_type": "code",
   "execution_count": null,
   "metadata": {},
   "outputs": [],
   "source": [
    "# Stratified Train-Test Split (For Imbalanced Classification)\n",
    "#If we have imbalanced classes, stratification ensures that the split maintains the original class distribution.\n",
    "\n",
    "X_train, X_test, y_train, y_test = train_test_split(\n",
    "    X, y, test_size=0.2, random_state=42, stratify=y\n",
    ")\n",
    "\n",
    "# Check class distribution\n",
    "print(\"Class Distribution in Training Set:\\n\", y_train.value_counts(normalize=True))\n",
    "print(\"Class Distribution in Test Set:\\n\", y_test.value_counts(normalize=True))\n"
   ]
  },
  {
   "cell_type": "code",
   "execution_count": 5,
   "metadata": {},
   "outputs": [
    {
     "name": "stdout",
     "output_type": "stream",
     "text": [
      "Fold 1:\n",
      "Train indices: 0 to 18\n",
      "Test indices: 19 to 34\n",
      "\n",
      "Fold 2:\n",
      "Train indices: 0 to 34\n",
      "Test indices: 35 to 50\n",
      "\n",
      "Fold 3:\n",
      "Train indices: 0 to 50\n",
      "Test indices: 51 to 66\n",
      "\n",
      "Fold 4:\n",
      "Train indices: 0 to 66\n",
      "Test indices: 67 to 82\n",
      "\n",
      "Fold 5:\n",
      "Train indices: 0 to 82\n",
      "Test indices: 83 to 98\n",
      "\n"
     ]
    }
   ],
   "source": [
    "#Time-Series Data Splitting, Sequential Splitting/ Cross-Validation : Helps in hyperparameter tuning & model selection,it follows an expanding window approach where each fold adds more past data.\n",
    "#In time-series cross-validation, we cannot randomly shuffle data like in standard k-fold CV because future values should not be used to predict past values\n",
    "\n",
    "# AAPL.csv dataset (Apple stock price data).\n",
    "\n",
    "import pandas as pd\n",
    "from sklearn.model_selection import TimeSeriesSplit\n",
    "\n",
    "# Load sample time-series dataset (AAPL stock data)\n",
    "df = pd.read_csv(\"AAPL.csv\", parse_dates=[\"Date\"], index_col=\"Date\")\n",
    "\n",
    "# Ensure data is sorted by date (crucial for time-series)\n",
    "df = df.sort_index()\n",
    "#print(df)\n",
    "\n",
    "# Selecting features (X) and target (y)\n",
    "X = df[['Close', 'Volume']]  # Feature: Closing price & volume\n",
    "y = df['Close'].shift(-1)     # Target: Next day's closing price (forecasting task)\n",
    "\n",
    "# Drop last row with NaN due to shifting\n",
    "#print(X.tail(),y.tail())\n",
    "X, y = X.iloc[:-1], y.iloc[:-1]\n",
    "\n",
    "# Initialize time-series cross-validation\n",
    "tscv = TimeSeriesSplit(n_splits=5) #Splits the dataset into 5 consecutive train-test sets.\n",
    "\n",
    "# Perform time-series split\n",
    "for fold, (train_index, test_index) in enumerate(tscv.split(X)):\n",
    "    X_train, X_test = X.iloc[train_index], X.iloc[test_index] #Ensures that past data is always before future data.\n",
    "    y_train, y_test = y.iloc[train_index], y.iloc[test_index] \n",
    "\n",
    "    print(f\"Fold {fold+1}:\")\n",
    "    print(f\"Train indices: {train_index[0]} to {train_index[-1]}\")\n",
    "    print(f\"Test indices: {test_index[0]} to {test_index[-1]}\\n\")\n",
    "\n"
   ]
  },
  {
   "cell_type": "code",
   "execution_count": null,
   "metadata": {},
   "outputs": [],
   "source": [
    "#K-Fold Cross-Validation (For Robust Model Evaluation)\n",
    "#When the dataset is small, and we need to use all data efficiently or we want a more reliable evaluation metric instead of a single train-test split.\n",
    "\n",
    "from sklearn.model_selection import KFold\n",
    "\n",
    "kf = KFold(n_splits=5, shuffle=True, random_state=42)\n",
    "\n",
    "for train_index, val_index in kf.split(X_train):\n",
    "    X_train_fold, X_val_fold = X_train.iloc[train_index], X_train.iloc[val_index]\n",
    "    y_train_fold, y_val_fold = y_train.iloc[train_index], y_train.iloc[val_index]\n",
    "    \n",
    "    # Train and evaluate model\n",
    "    print(f\"Training fold: {X_train_fold.shape}, Validation fold: {X_val_fold.shape}\")\n"
   ]
  }
 ],
 "metadata": {
  "kernelspec": {
   "display_name": "base",
   "language": "python",
   "name": "python3"
  },
  "language_info": {
   "codemirror_mode": {
    "name": "ipython",
    "version": 3
   },
   "file_extension": ".py",
   "mimetype": "text/x-python",
   "name": "python",
   "nbconvert_exporter": "python",
   "pygments_lexer": "ipython3",
   "version": "3.12.7"
  }
 },
 "nbformat": 4,
 "nbformat_minor": 2
}
