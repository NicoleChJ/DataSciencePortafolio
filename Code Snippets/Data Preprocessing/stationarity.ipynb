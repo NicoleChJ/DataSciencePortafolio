{
 "cells": [
  {
   "cell_type": "markdown",
   "metadata": {},
   "source": [
    "If for time series that are non-stationary, apply one or more of these transformations or differencing:\n",
    "1. Differencing (Most Common Method)\n",
    "- First-order differencing: Subtract each value from the previous one.\n",
    "- Second-order differencing: Apply differencing twice if one differencing step is insufficient.\n",
    "2. Seasonal Differencing:\n",
    "If data has strong seasonality, subtract values from the same time in the previous cycle.\n",
    "3. Log Transformation:\n",
    "Use when the series has exponential growth to stabilize variance.\n",
    "4. Square root transformation: Less aggressive than log transformation.Useful when variance increases over time but not drastically.\n",
    "5. Box-Cox transformation: A family of power transformations that includes log and square root.Requires data to be strictly positive.\n",
    "\n",
    "\n",
    "Remember that post doing the transformations re-run the ADF test after transformation to confirm stationarity.\n"
   ]
  },
  {
   "cell_type": "markdown",
   "metadata": {},
   "source": [
    "### Differencing (For Trend)"
   ]
  },
  {
   "cell_type": "code",
   "execution_count": null,
   "metadata": {},
   "outputs": [],
   "source": [
    "\n",
    "# First-order differencing\n",
    "df['differenced'] = df['value'].diff().dropna()\n",
    "\n",
    "# Plot differenced time series\n",
    "plt.figure(figsize=(10,5))\n",
    "plt.plot(df['differenced'], label=\"First-Order Differencing\", color='red')\n",
    "plt.legend()\n",
    "plt.title(\"First-Order Differenced Time Series\")\n",
    "plt.show()\n",
    "\n",
    "# ADF test after differencing\n",
    "result_diff = adfuller(df['differenced'].dropna())\n",
    "print(\"ADF Statistic (After Differencing):\", result_diff[0])\n",
    "print(\"p-value (After Differencing):\", result_diff[1])\n",
    "\n",
    "# If p-value < 0.05, the series is now stationary!\n",
    "#If p-value > 0.05, apply second-order differencing:\n",
    "\n",
    "df['differenced_2'] = df['differenced'].diff().dropna()"
   ]
  },
  {
   "cell_type": "markdown",
   "metadata": {},
   "source": [
    "### Seasonal Differencing (For Seasonal Patterns)"
   ]
  },
  {
   "cell_type": "code",
   "execution_count": null,
   "metadata": {},
   "outputs": [],
   "source": [
    "df['seasonal_diff'] = df['value'] - df['value'].shift(12)  # Assuming monthly data\n",
    "\n",
    "plt.figure(figsize=(10,5))\n",
    "plt.plot(df['seasonal_diff'], label=\"Seasonally Differenced Data\", color='purple')\n",
    "plt.legend()\n",
    "plt.title(\"Seasonal Differencing\")\n",
    "plt.show()\n"
   ]
  },
  {
   "cell_type": "markdown",
   "metadata": {},
   "source": [
    "###  Log Transformation (For Exponential Growth)"
   ]
  },
  {
   "cell_type": "code",
   "execution_count": null,
   "metadata": {},
   "outputs": [],
   "source": [
    "df['log_value'] = np.log(df['value'])\n",
    "\n",
    "plt.figure(figsize=(10,5))\n",
    "plt.plot(df['log_value'], label=\"Log Transformed Data\", color='green')\n",
    "plt.legend()\n",
    "plt.title(\"Log Transformation\")\n",
    "plt.show()\n"
   ]
  },
  {
   "cell_type": "markdown",
   "metadata": {},
   "source": [
    "### Square Root Transformation"
   ]
  },
  {
   "cell_type": "code",
   "execution_count": null,
   "metadata": {},
   "outputs": [],
   "source": [
    "# Square Root Transformation\n",
    "df['sqrt_value'] = np.sqrt(df['value'])\n",
    "\n",
    "plt.figure(figsize=(12, 5))\n",
    "plt.plot(df['sqrt_value'], label=\"Square Root Transformed Data\", color=\"green\")\n",
    "plt.legend()\n",
    "plt.title(\"Square Root Transformation\")\n",
    "plt.show()\n"
   ]
  },
  {
   "cell_type": "markdown",
   "metadata": {},
   "source": [
    "### Box-Cox Transformation (Requires Positive Values)"
   ]
  },
  {
   "cell_type": "code",
   "execution_count": null,
   "metadata": {},
   "outputs": [],
   "source": [
    "#Box-Cox Transformation (Requires Positive Values)\n",
    "df['boxcox_value'], lambda_bc = boxcox(df['value'])  # Get transformed data and lambda\n",
    "\n",
    "plt.figure(figsize=(12, 5))\n",
    "plt.plot(df['boxcox_value'], label=\"Box-Cox Transformed Data\", color=\"red\")\n",
    "plt.legend()\n",
    "plt.title(f\"Box-Cox Transformation (Lambda = {lambda_bc:.2f})\")\n",
    "plt.show()\n"
   ]
  }
 ],
 "metadata": {
  "kernelspec": {
   "display_name": "base",
   "language": "python",
   "name": "python3"
  },
  "language_info": {
   "name": "python",
   "version": "3.12.7"
  }
 },
 "nbformat": 4,
 "nbformat_minor": 2
}
