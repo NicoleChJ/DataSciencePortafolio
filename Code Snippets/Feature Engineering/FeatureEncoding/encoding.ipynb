{
 "cells": [
  {
   "cell_type": "markdown",
   "metadata": {},
   "source": [
    "# Encoding Categorical Variables\n",
    "Convert categorical variables into numerical format for machine learning models.\n",
    "Methods:\n",
    "- One-Hot Encoding: Create binary columns for each category.\n",
    "- Label Encoding: Assign a unique integer to each category."
   ]
  },
  {
   "cell_type": "code",
   "execution_count": null,
   "metadata": {
    "vscode": {
     "languageId": "plaintext"
    }
   },
   "outputs": [],
   "source": [
    "# One-Hot Encoding\n",
    "df = pd.get_dummies(df, columns=['category_column'])\n"
   ]
  },
  {
   "cell_type": "code",
   "execution_count": null,
   "metadata": {
    "vscode": {
     "languageId": "plaintext"
    }
   },
   "outputs": [],
   "source": [
    "# Label Encoding\n",
    "from sklearn.preprocessing import LabelEncoder\n",
    "le = LabelEncoder()\n",
    "df['category_column'] = le.fit_transform(df['category_column'])"
   ]
  }
 ],
 "metadata": {
  "language_info": {
   "name": "python"
  }
 },
 "nbformat": 4,
 "nbformat_minor": 2
}
