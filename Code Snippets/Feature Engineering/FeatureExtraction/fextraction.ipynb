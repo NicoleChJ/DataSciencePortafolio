{
 "cells": [
  {
   "cell_type": "markdown",
   "metadata": {},
   "source": [
    "# Feature Extraction\n",
    "\n",
    "####  Dimensionality Reduction Techniques\n",
    "- Principal Component Analysis (PCA)\n",
    "- Linear Discriminant Analysis (LDA)\n",
    "- t-SNE\n",
    "- UMAP\n",
    "- Factor Analysis\n",
    "\n",
    "####  Advanced Extraction Methods\n",
    "- Autoencoder-based feature extraction\n",
    "- Word embeddings\n",
    "- Image feature extraction (CNN)\n",
    "- Text feature extraction techniques"
   ]
  }
 ],
 "metadata": {
  "language_info": {
   "name": "python"
  }
 },
 "nbformat": 4,
 "nbformat_minor": 2
}
