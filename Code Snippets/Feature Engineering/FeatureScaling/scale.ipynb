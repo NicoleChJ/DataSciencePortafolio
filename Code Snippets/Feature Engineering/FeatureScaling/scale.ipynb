{
 "cells": [
  {
   "cell_type": "markdown",
   "metadata": {},
   "source": [
    "# Scaling Numerical Features\n",
    "Scale numerical features to a standard range (e.g., 0 to 1 or mean = 0, std = 1).\n",
    "Methods:\n",
    "- Min-Max Scaling: Scale values to a range (e.g., 0 to 1).\n",
    "- Standardization: Scale values to have a mean of 0 and a standard deviation of 1."
   ]
  },
  {
   "cell_type": "code",
   "execution_count": null,
   "metadata": {
    "vscode": {
     "languageId": "plaintext"
    }
   },
   "outputs": [],
   "source": [
    "# Min-Max Scaling\n",
    "from sklearn.preprocessing import MinMaxScaler\n",
    "scaler = MinMaxScaler()\n",
    "df['numerical_column'] = scaler.fit_transform(df[['numerical_column']])\n"
   ]
  },
  {
   "cell_type": "code",
   "execution_count": null,
   "metadata": {
    "vscode": {
     "languageId": "plaintext"
    }
   },
   "outputs": [],
   "source": [
    "# Standardization (Z-Score Normalization)\n",
    "from sklearn.preprocessing import StandardScaler\n",
    "scaler = StandardScaler()\n",
    "df['numerical_column'] = scaler.fit_transform(df[['numerical_column']])"
   ]
  }
 ],
 "metadata": {
  "language_info": {
   "name": "python"
  }
 },
 "nbformat": 4,
 "nbformat_minor": 2
}
