{
 "cells": [
  {
   "cell_type": "markdown",
   "metadata": {},
   "source": [
    "### Model-Agnostic Methods\n",
    "\n",
    "- Permutation Importance\n",
    "- SHAP (SHapley Additive exPlanations) Values\n",
    "- Partial Dependence Plots\n",
    "\n",
    "### Model-Specific Methods\n",
    "\n",
    "- Random Forest Feature Importance\n",
    "- Gradient Boosting Feature Importance\n",
    "- Coefficients in Linear Models\n",
    "- Tree-based Feature Importance"
   ]
  },
  {
   "cell_type": "code",
   "execution_count": null,
   "metadata": {
    "vscode": {
     "languageId": "plaintext"
    }
   },
   "outputs": [],
   "source": []
  }
 ],
 "metadata": {
  "language_info": {
   "name": "python"
  }
 },
 "nbformat": 4,
 "nbformat_minor": 2
}
