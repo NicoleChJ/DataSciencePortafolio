{
 "cells": [
  {
   "cell_type": "markdown",
   "metadata": {},
   "source": [
    "# Removing  features \n",
    "Can help reduce noise, improve model performance, and reduce computational complexity.\n",
    "Always analize if it makes sense or not erase the value for example, in a dataset of customer transactions, a feature like \"discount applied\" might have a low variance if discounts are rare, but it could still be important.For example, a feature like \"customer ID\" might have high variance but is not useful for modeling."
   ]
  },
  {
   "cell_type": "markdown",
   "metadata": {},
   "source": [
    "### Erasing low-variance features\n",
    "Low-variance features are those that have little to no variability in their values, meaning they provide little to no useful information for the model.\n",
    "\n",
    "Start with a conservative threshold (e.g., 0.0) and gradually increase it while monitoring model performance.\n",
    "Use cross-validation to evaluate the impact of removing low-variance features."
   ]
  },
  {
   "cell_type": "code",
   "execution_count": null,
   "metadata": {},
   "outputs": [
    {
     "name": "stdout",
     "output_type": "stream",
     "text": [
      "Original DataFrame:\n",
      "   feature1  feature2  feature3  feature4\n",
      "0         1         1         0        10\n",
      "1         1         2         0        20\n",
      "2         1         3         0        30\n",
      "3         1         4         0        40\n",
      "4         1         5         0        50\n",
      "\n",
      "DataFrame after removing low-variance features:\n",
      "   feature2  feature4\n",
      "0         1        10\n",
      "1         2        20\n",
      "2         3        30\n",
      "3         4        40\n",
      "4         5        50\n"
     ]
    }
   ],
   "source": [
    "import pandas as pd\n",
    "from sklearn.feature_selection import VarianceThreshold\n",
    "\n",
    "# Sample DataFrame with low-variance features\n",
    "data = {\n",
    "    'feature1': [1, 1, 1, 1, 1],  # Low variance (all values are the same)\n",
    "    'feature2': [1, 2, 3, 4, 5],  # High variance\n",
    "    'feature3': [0, 0, 0, 0, 0],  # Zero variance\n",
    "    'feature4': [10, 20, 30, 40, 50]  # High variance\n",
    "}\n",
    "\n",
    "# Create DataFrame\n",
    "df = pd.DataFrame(data)\n",
    "\n",
    "# Display the original DataFrame\n",
    "print(\"Original DataFrame:\")\n",
    "print(df)\n",
    "\n",
    "# Step 1: Initialize VarianceThreshold\n",
    "# Set a threshold for variance (e.g., 0.0 to remove features with zero variance) A variance of 0.1 indicates that the values of the feature are clustered closely around the mean.\n",
    "selector = VarianceThreshold(threshold=0.1)\n",
    "\n",
    "# Step 2: Fit and transform the data\n",
    "df_cleaned = selector.fit_transform(df) #Applies the variance threshold and removes low-variance features.\n",
    "\n",
    "# Step 3: Get the selected feature names\n",
    "selected_features = df.columns[selector.get_support()] #returns a boolean mask of the selected features.\n",
    "\n",
    "# Create a new DataFrame with the selected features\n",
    "df_cleaned = pd.DataFrame(df_cleaned, columns=selected_features)\n",
    "\n",
    "# Display the cleaned DataFrame\n",
    "print(\"\\nDataFrame after removing low-variance features:\")\n",
    "print(df_cleaned)"
   ]
  }
 ],
 "metadata": {
  "kernelspec": {
   "display_name": "base",
   "language": "python",
   "name": "python3"
  },
  "language_info": {
   "codemirror_mode": {
    "name": "ipython",
    "version": 3
   },
   "file_extension": ".py",
   "mimetype": "text/x-python",
   "name": "python",
   "nbconvert_exporter": "python",
   "pygments_lexer": "ipython3",
   "version": "3.12.7"
  }
 },
 "nbformat": 4,
 "nbformat_minor": 2
}
