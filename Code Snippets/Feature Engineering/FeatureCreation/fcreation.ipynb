{
 "cells": [
  {
   "cell_type": "markdown",
   "metadata": {},
   "source": [
    "# Feature Creation \n",
    "### Existing Feature Transformations\n",
    "\n",
    "Polynomial features\n",
    "Interaction terms\n",
    "Logarithmic transformations\n",
    "Exponential transformations\n",
    "Trigonometric transformations\n",
    "\n",
    "### Domain-Specific Feature Creation\n",
    "\n",
    "Time-based features (from datetime)\n",
    "\n",
    "Hour of day\n",
    "Day of week\n",
    "Month\n",
    "Season\n",
    "Holiday indicators\n",
    "\n",
    "\n",
    "Aggregation features\n",
    "\n",
    "Moving averages\n",
    "Cumulative sums\n",
    "Rolling statistics\n",
    "\n",
    "### Derivation Methods\n",
    "\n",
    "Ratio features\n",
    "Difference features\n",
    "Binning continuous variables\n",
    "Custom mathematical transformations"
   ]
  },
  {
   "cell_type": "code",
   "execution_count": null,
   "metadata": {
    "vscode": {
     "languageId": "plaintext"
    }
   },
   "outputs": [],
   "source": [
    "# Extract features (e.g., year, month, day)\n",
    "df['year'] = df['date_column'].dt.year\n",
    "df['month'] = df['date_column'].dt.month\n",
    "df['day'] = df['date_column'].dt.day"
   ]
  },
  {
   "cell_type": "code",
   "execution_count": null,
   "metadata": {
    "vscode": {
     "languageId": "plaintext"
    }
   },
   "outputs": [],
   "source": [
    "Date/Time Features: Extract meaningful features like month, day of week, hour, lag features, and rolling statistics (e.g., moving averages) to capture patterns.\n",
    "Lag Variables: Create features based on previous time steps (e.g., lag_1, lag_2 for time t-1, t-2).\n",
    "\n",
    "# Create lag features (previous values)\n",
    "df['lag_1'] = df['value'].shift(1)\n",
    "df['lag_2'] = df['value'].shift(2)\n",
    "\n",
    "#Moving avaregaes\n",
    "df['rolling_mean'] = df['value'].rolling(window=7).mean()  # 7-day moving average\n"
   ]
  },
  {
   "cell_type": "code",
   "execution_count": null,
   "metadata": {
    "vscode": {
     "languageId": "plaintext"
    }
   },
   "outputs": [],
   "source": [
    "#wHEN DOING Time Series Decomposition  \n",
    "\n",
    "# Decompose the time series\n",
    "decomposition = seasonal_decompose(df['sales'], model='additive', period=12)  # Adjust period as needed\n",
    "\n",
    "# Extract components\n",
    "df['trend'] = decomposition.trend\n",
    "df['seasonal'] = decomposition.seasonal\n",
    "df['residual'] = decomposition.resid\n",
    "\n",
    "\n",
    "# Create feature and target variables\n",
    "X = df[['trend', 'seasonal']]\n",
    "y = df['sales']\n"
   ]
  }
 ],
 "metadata": {
  "language_info": {
   "name": "python"
  }
 },
 "nbformat": 4,
 "nbformat_minor": 2
}
