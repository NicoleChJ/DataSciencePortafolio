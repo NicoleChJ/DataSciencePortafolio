{
 "cells": [
  {
   "cell_type": "markdown",
   "metadata": {},
   "source": [
    "# Statistical Tests in Machine Learning: A Comprehensive Guide\n",
    "\n",
    "Statistical tests are fundamental in machine learning for validating assumptions, selecting relevant features, and ensuring the reliability of predictive models. They help us understand the relationships between variables, assess the significance of these relationships, and make informed decisions about which variables to include or exclude from a model. This guide provides an overview of key statistical techniques for analyzing both dependent (target) and independent (predictor) variables.\n",
    "\n",
    "###  When Are Statistical Tests Necessary?\n",
    "\n",
    "The need for statistical tests depends on the type of model being used and the underlying assumptions of that model. For example:\n",
    "\n",
    "- Linear Models: These models often assume linear relationships between variables, normality of residuals, and homoscedasticity (equal variance). \n",
    "- Tree-Based Models: These models are less sensitive to assumptions like linearity and normality, but statistical tests can still help in feature selection and understanding variable importance.\n",
    "- Neural Networks: While neural networks can model complex, nonlinear relationships, statistical tests can aid in feature selection and detecting multicollinearity.\n",
    "- k-Nearest Neighbors (kNN): Statistical tests can help identify relevant features and assess the significance of relationships between variables.\n",
    "\n",
    "In general, statistical tests are necessary when:\n",
    "- You need to validate assumptions about the data (e.g., normality, homoscedasticity).\n",
    "- You want to assess the significance of relationships between variables.\n",
    "- You need to select or eliminate features to improve model performance.\n",
    "- You want to detect multicollinearity or other issues that could harm model performance. High correlation between independent variables can harm model performance, especially in regression models. \n",
    "\n",
    "\n",
    "### Statistical Techniques for dependent Variables:\n",
    "When analyzing the dependent variable (target), the goal is to understand its relationship with the independent variables and assess whether differences across groups are statistically significant.\n",
    "\n",
    "\n",
    "##### General Guidelines for Variable Selection:\n",
    "Before removing a variable, ensure that nonlinear relationships are explored, and the variable is retained if it makes business sense or is critical for the model's context.\n",
    "\n",
    "- p-value > 0.05: Consider dropping the variable unless business logic suggests its importance or if it has interaction effects with other variables. However, be cautious of multicollinearity; if present, one of the correlated variables should be removed.\n",
    "- p-value ≈ 0.05: Further investigation is required. Check for nonlinear relationships using techniques like polynomial regression or transformations. Retain the variable if it aligns with business objectives or model requirements.\n",
    "- Test the Variable: Evaluate the variable's impact on model performance by testing it within the model. If it does not improve predictive accuracy, consider removing it.\n",
    "\n",
    "\n",
    "### Statistical Techniques for Independent Variables \n",
    "For independent variables (predictors), the focus is on detecting multicollinearity (high correlation between predictors), selecting relevant features, and removing redundant or noisy variables.\n"
   ]
  },
  {
   "cell_type": "code",
   "execution_count": 2,
   "metadata": {},
   "outputs": [],
   "source": [
    "import pandas as pd\n",
    "from scipy import stats\n",
    "import seaborn as sns\n",
    "import numpy as np\n",
    "import matplotlib.pyplot as plt\n",
    "\n",
    "# Load Titanic dataset\n",
    "titanic = sns.load_dataset(\"titanic\")"
   ]
  },
  {
   "cell_type": "markdown",
   "metadata": {},
   "source": [
    "# Possible prerequisites\n",
    "Parametric assumptions:  normal distribution and has equal variances across groups."
   ]
  },
  {
   "cell_type": "markdown",
   "metadata": {},
   "source": [
    "## Test for Normality\n",
    "Essential for parametric methods, these tests verify if data follows a normal distribution."
   ]
  },
  {
   "cell_type": "markdown",
   "metadata": {},
   "source": [
    "#### Shapiro-Wilk Test\n",
    "For small datasets n < 2000. \n",
    "\n",
    "H₀(Null Hypothesis) data is normally distributed so if p > 0.05: Normal distribution"
   ]
  },
  {
   "cell_type": "code",
   "execution_count": 5,
   "metadata": {},
   "outputs": [
    {
     "name": "stdout",
     "output_type": "stream",
     "text": [
      "Shapiro-Wilk Test Statistic: 0.5219, p-value: 1.0840444395829968e-43\n",
      "Reject H0: The 'Fare' variable does NOT appear to be normally distributed.\n"
     ]
    }
   ],
   "source": [
    "# Select the 'fare' column and drop NaN values\n",
    "fare_data = titanic['fare'].dropna()\n",
    "\n",
    "# Perform Shapiro-Wilk normality test\n",
    "stat, p_value = stats.shapiro(fare_data)\n",
    "\n",
    "# Print the test statistic and p-value\n",
    "print(f'Shapiro-Wilk Test Statistic: {stat:.4f}, p-value: {p_value}')\n",
    "\n",
    "# Interpretation\n",
    "alpha = 0.05\n",
    "if p_value > alpha:\n",
    "    print(\"Fail to reject H0: The 'Fare' variable appears to be normally distributed.\")\n",
    "else:\n",
    "    print(\"Reject H0: The 'Fare' variable does NOT appear to be normally distributed.\")\n"
   ]
  },
  {
   "cell_type": "markdown",
   "metadata": {},
   "source": [
    "#### D'Agostino-Pearson Test\n",
    "Evaluates whether a dataset is normally distributed by checking both skewness (measures the asymmetry of the distribution)  and kurtosis (measures whether the tails are heavier or lighter than a normal distribution), better for larger examples"
   ]
  },
  {
   "cell_type": "code",
   "execution_count": 7,
   "metadata": {},
   "outputs": [
    {
     "name": "stdout",
     "output_type": "stream",
     "text": [
      "D'Agostino-Pearson Test Statistic: 904.5873, p-value: 3.727091062842147e-197\n",
      "Reject H0: The 'Fare' variable does NOT appear to be normally distributed.\n"
     ]
    }
   ],
   "source": [
    "# Select the 'fare' column and drop NaN values\n",
    "fare_data = titanic['fare'].dropna()\n",
    "\n",
    "# Perform D'Agostino-Pearson normality test\n",
    "stat, p_value = stats.normaltest(fare_data)\n",
    "\n",
    "# Print the test statistic and p-value\n",
    "print(f\"D'Agostino-Pearson Test Statistic: {stat:.4f}, p-value: {p_value}\")\n",
    "\n",
    "# Interpretation\n",
    "alpha = 0.05\n",
    "if p_value > alpha:\n",
    "    print(\"Fail to reject H0: The 'Fare' variable appears to be normally distributed.\")\n",
    "else:\n",
    "    print(\"Reject H0: The 'Fare' variable does NOT appear to be normally distributed.\")"
   ]
  },
  {
   "cell_type": "markdown",
   "metadata": {},
   "source": [
    "## Tests for Homogeneity of Variance  (homoscedasticity)\n",
    "Verify if groups have equal variances which is an assumption for many parametric tests like ANOVA and t-tests."
   ]
  },
  {
   "cell_type": "markdown",
   "metadata": {},
   "source": [
    "#### Levene's Test\n",
    "\n",
    " More robust when data is not normally distributed, so actually its preferred for general use due to robustness."
   ]
  },
  {
   "cell_type": "code",
   "execution_count": 4,
   "metadata": {},
   "outputs": [
    {
     "name": "stdout",
     "output_type": "stream",
     "text": [
      "Levene's Test Statistic: 118.5702, p-value: 2.288618662046418e-46\n",
      "Reject H0: The variances are significantly different (heteroscedasticity).\n"
     ]
    }
   ],
   "source": [
    "# Select relevant columns and drop NaN values\n",
    "titanic = titanic[['pclass', 'fare']].dropna()\n",
    "\n",
    "# Split fare data into groups based on passenger class\n",
    "fare_class1 = titanic[titanic['pclass'] == 1]['fare']\n",
    "fare_class2 = titanic[titanic['pclass'] == 2]['fare']\n",
    "fare_class3 = titanic[titanic['pclass'] == 3]['fare']\n",
    "\n",
    "# Perform Levene’s test\n",
    "stat, p_value = stats.levene(fare_class1, fare_class2, fare_class3)\n",
    "\n",
    "# Print results\n",
    "print(f\"Levene's Test Statistic: {stat:.4f}, p-value: {p_value}\")\n",
    "\n",
    "# Interpretation\n",
    "alpha = 0.05\n",
    "if p_value > alpha:\n",
    "    print(\"Fail to reject H0: The variances across passenger classes are equal (homoscedasticity).\")\n",
    "else:\n",
    "    print(\"Reject H0: The variances are significantly different (heteroscedasticity).\")"
   ]
  },
  {
   "cell_type": "markdown",
   "metadata": {},
   "source": [
    "#### Bartlett's Test\n",
    "\n",
    "More powerful but requires normality"
   ]
  },
  {
   "cell_type": "code",
   "execution_count": 8,
   "metadata": {},
   "outputs": [
    {
     "name": "stdout",
     "output_type": "stream",
     "text": [
      "Bartlett's Test Statistic: 78.9749, p-value: 7.092678261738603e-18\n",
      "Reject H0: The variances are significantly different (heteroscedasticity).\n"
     ]
    }
   ],
   "source": [
    "# Select relevant columns and drop NaN values\n",
    "titanic = titanic[['pclass', 'fare']].dropna()\n",
    "\n",
    "#test requires normality, we will first normalize the Fare data using a logarithmic transformation.\n",
    "#The Fare variable is highly skewed, which violates Bartlett’s assumption of normality.Applying log1p() (log(1 + fare)) reduces skewness, making the data more normally distributed\n",
    "# Apply a logarithmic transformation to make the distribution more normal\n",
    "titanic['fare_log'] = np.log1p(titanic['fare'])  # log(1 + fare) to avoid log(0) issues\n",
    "\n",
    "# Split transformed fare data into groups based on passenger class\n",
    "fare_class1 = titanic[titanic['pclass'] == 1]['fare_log']\n",
    "fare_class2 = titanic[titanic['pclass'] == 2]['fare_log']\n",
    "fare_class3 = titanic[titanic['pclass'] == 3]['fare_log']\n",
    "\n",
    "# Perform Bartlett’s test\n",
    "stat, p_value = stats.bartlett(fare_class1, fare_class2, fare_class3)\n",
    "\n",
    "# Print results\n",
    "print(f\"Bartlett's Test Statistic: {stat:.4f}, p-value: {p_value}\")\n",
    "\n",
    "# Interpretation\n",
    "alpha = 0.05\n",
    "if p_value > alpha:\n",
    "    print(\"Fail to reject H0: The variances across passenger classes are equal (homoscedasticity).\")\n",
    "else:\n",
    "    print(\"Reject H0: The variances are significantly different (heteroscedasticity).\")"
   ]
  },
  {
   "cell_type": "markdown",
   "metadata": {},
   "source": [
    "# Statistical Techniques for dependent variable"
   ]
  },
  {
   "cell_type": "markdown",
   "metadata": {},
   "source": [
    "### Correlation  (Continuous Target with Continuous Features)\n",
    "\n",
    "Correlation measures the strength and direction of the relationship between the target variable and independent variables. It is used to check linear dependencies.\n",
    "\n",
    "##### Prerequisites: \n",
    "- Linearity: Examine scatterplots to confirm linear relationships between variables\n",
    "- No outliers:  Utilize box plots, z-scores, or Isolation Forest algorithms to identify and address outliers that may distort correlation coefficients\n",
    "\n",
    "\n",
    "##### Interpretation Framework\n",
    "\n",
    "1) Strength of Correlation (magnitude of r) tells us how strongly two variables are linearly related:\n",
    "\n",
    "- Strong correlation (|r| > 0.5) → The variable is likely useful for prediction, independent variable is strongly correlated with the target\n",
    "- Weak correlation (|r| < 0.3) → Limited predictive utility, but may still be considered.\n",
    "- Negligible correlation (|r| < 0.1) → Variable unlikely to provide predictive value. \n",
    "\n",
    "\n",
    "\n",
    "2) Statistical Significance (p-value) tells us whether the correlation is likely due to chance.We need to know it does not mean it is statistically significant.\n",
    "\n",
    " Even if r is high (>0.5), if p > 0.05, the correlation is not reliable and may be due to random chance , if p < 0.05 the correlation has 95% confidence level.\n"
   ]
  },
  {
   "cell_type": "markdown",
   "metadata": {},
   "source": [
    "#### Pearson\n",
    "Is parametric. Measures the linear relationship between two continuous variables.\n",
    "Requirements: Linear relationship, normal distribution and minimal outliers"
   ]
  },
  {
   "cell_type": "code",
   "execution_count": 24,
   "metadata": {},
   "outputs": [
    {
     "name": "stdout",
     "output_type": "stream",
     "text": [
      "Pearson Correlation: 0.0961, p-value: 0.0102\n",
      "\n",
      "Interpretation:\n",
      "Significant correlation detected (linear relationship).\n",
      "The feature has a weak correlation with the target.\n"
     ]
    },
    {
     "data": {
      "image/png": "[encoded data removed]",
      "text/plain": [
       "<Figure size 1000x500 with 1 Axes>"
      ]
     },
     "metadata": {},
     "output_type": "display_data"
    }
   ],
   "source": [
    "# Select relevant columns and drop NaN values\n",
    "titanic = titanic[['age', 'fare']].dropna()\n",
    "\n",
    "# Pearson Correlation (Linear Relationship)\n",
    "pearson_corr, pearson_p = stats.pearsonr(titanic['age'], titanic['fare'])\n",
    "\n",
    "\n",
    "# Print Results\n",
    "print(f\"Pearson Correlation: {pearson_corr:.4f}, p-value: {pearson_p:.4f}\")\n",
    "\n",
    "# Interpretation\n",
    "alpha = 0.05\n",
    "print(\"\\nInterpretation:\")\n",
    "\n",
    "\n",
    "if pearson_p < alpha:\n",
    "    print(\"Significant correlation detected (linear relationship).\")\n",
    "else:\n",
    "    print(\"No significant correlation detected.\")\n",
    "\n",
    "# Strength Analysis\n",
    "if abs(pearson_corr) > 0.5:\n",
    "    print(\"The feature has a strong correlation with the target.\")\n",
    "else:\n",
    "    print(\"The feature has a weak correlation with the target.\")\n",
    "\n",
    "# Visualization\n",
    "plt.figure(figsize=(10, 5))\n",
    "\n",
    "# Scatter plot with regression line\n",
    "plt.subplot(1, 2, 1)\n",
    "sns.regplot(x=titanic['age'], y=titanic['fare'], scatter_kws={'alpha':0.5}, line_kws={'color':'red'})\n",
    "plt.title(\"Scatter Plot with Regression Line (Pearson)\")\n",
    "\n",
    "\n",
    "plt.show()"
   ]
  },
  {
   "cell_type": "markdown",
   "metadata": {},
   "source": [
    "#### Spearman\n",
    "Non parametric test.\n",
    "Assesses Monotonic relationship (increasing/decreasing trend, not necessarily linear) and  ordinal data ( have a meaningful order ).\n",
    "Is more robust to outliers and skewed data, so no need normally distribution."
   ]
  },
  {
   "cell_type": "code",
   "execution_count": 25,
   "metadata": {},
   "outputs": [
    {
     "name": "stdout",
     "output_type": "stream",
     "text": [
      "Spearman Correlation: 0.1351, p-value: 0.0003\n",
      "\n",
      "Interpretation:\n",
      "Significant monotonic correlation detected.\n",
      "The feature has a weak correlation with the target.\n"
     ]
    },
    {
     "data": {
      "image/png": "[encoded data removed]",
      "text/plain": [
       "<Figure size 1000x500 with 1 Axes>"
      ]
     },
     "metadata": {},
     "output_type": "display_data"
    }
   ],
   "source": [
    "# Select relevant columns and drop NaN values\n",
    "titanic = titanic[['age', 'fare']].dropna()\n",
    "\n",
    "# Spearman Correlation (Monotonic Relationship)\n",
    "spearman_corr, spearman_p = stats.spearmanr(titanic['age'], titanic['fare'])\n",
    "\n",
    "# Print Results\n",
    "print(f\"Spearman Correlation: {spearman_corr:.4f}, p-value: {spearman_p:.4f}\")\n",
    "\n",
    "# Interpretation\n",
    "alpha = 0.05\n",
    "print(\"\\nInterpretation:\")\n",
    "if spearman_p < alpha:\n",
    "    print(\"Significant monotonic correlation detected.\")\n",
    "else:\n",
    "    print(\"No significant monotonic correlation detected.\")\n",
    "\n",
    "if abs(spearman_corr) > 0.5:\n",
    "    print(\"The feature has a strong correlation with the target.\")\n",
    "else:\n",
    "    print(\"The feature has a weak correlation with the target.\")\n",
    "\n",
    "# Visualization\n",
    "plt.figure(figsize=(10, 5))\n",
    "\n",
    "\n",
    "# Scatter plot without regression line (monotonic trend)\n",
    "plt.subplot(1, 2, 2)\n",
    "sns.scatterplot(x=titanic['age'], y=titanic['fare'], alpha=0.5)\n",
    "plt.title(\"Scatter Plot (Spearman)\")\n",
    "\n",
    "plt.show()"
   ]
  },
  {
   "cell_type": "markdown",
   "metadata": {},
   "source": [
    "### Group Comparison Tests (Continuous Target with Categorical Features)"
   ]
  },
  {
   "cell_type": "markdown",
   "metadata": {},
   "source": [
    "#### Parametric Test\n",
    "Parametric assumptions:  normal distribution and has equal variances across groups."
   ]
  },
  {
   "cell_type": "markdown",
   "metadata": {},
   "source": [
    "##### Independent T-test\n",
    "Used to compare the means of two independent groups.The target variable is continuous and the independent variable is binary (e.g., male vs female)."
   ]
  },
  {
   "cell_type": "code",
   "execution_count": 19,
   "metadata": {},
   "outputs": [
    {
     "name": "stdout",
     "output_type": "stream",
     "text": [
      "Independent t-Test Statistic: 6.8391, p-value: 2.6993323503141236e-11\n",
      "Reject H0: Significant difference in mean fares.\n"
     ]
    }
   ],
   "source": [
    "# Select relevant columns and drop NaN values\n",
    "titanic = titanic[['survived', 'fare']].dropna()\n",
    "\n",
    "# Split fare data into two groups: Survived (1) vs. Not Survived (0)\n",
    "fare_survived = titanic[titanic['survived'] == 1]['fare']\n",
    "fare_not_survived = titanic[titanic['survived'] == 0]['fare']\n",
    "\n",
    "# Perform Independent t-Test\n",
    "stat, p_value = stats.ttest_ind(fare_survived, fare_not_survived, equal_var=False)  # Welch's t-test\n",
    "\n",
    "# Print results\n",
    "print(f\"Independent t-Test Statistic: {stat:.4f}, p-value: {p_value}\")\n",
    "\n",
    "# Interpretation\n",
    "alpha = 0.05\n",
    "if p_value > alpha:\n",
    "    print(\"Fail to reject H0: No significant difference in mean fares.Before removing check for nonlinear relationships (use polynomial regression or transformations)\")\n",
    "else:\n",
    "    print(\"Reject H0: Significant difference in mean fares.You should consider using this variable in the model.\")"
   ]
  },
  {
   "cell_type": "markdown",
   "metadata": {},
   "source": [
    "##### One-way ANOVA\n",
    "Used to compare the means of 3 or more independent groups, so it helps to test if a categorical variable significantly affects the target"
   ]
  },
  {
   "cell_type": "code",
   "execution_count": 23,
   "metadata": {},
   "outputs": [
    {
     "name": "stdout",
     "output_type": "stream",
     "text": [
      "One-Way ANOVA Statistic: 242.3442, p-value: 1.0313763209141171e-84\n",
      "Reject H0: At least one passenger class has a significantly different mean fare.\n"
     ]
    }
   ],
   "source": [
    "# Split fare data into groups based on passenger class\n",
    "fare_class1 = titanic[titanic['pclass'] == 1]['fare']\n",
    "fare_class2 = titanic[titanic['pclass'] == 2]['fare']\n",
    "fare_class3 = titanic[titanic['pclass'] == 3]['fare']\n",
    "\n",
    "# Perform One-Way ANOVA\n",
    "stat, p_value = stats.f_oneway(fare_class1, fare_class2, fare_class3)\n",
    "\n",
    "# Print results\n",
    "print(f\"One-Way ANOVA Statistic: {stat:.4f}, p-value: {p_value}\")\n",
    "\n",
    "# Interpretation\n",
    "if p_value > alpha:\n",
    "    print(\"Fail to reject H0: No significant difference in mean fares among passenger classes.\")\n",
    "else:\n",
    "    print(\"Reject H0: At least one passenger class has a significantly different mean fare.You should consider using this variable in the model.You need to perform a post-hoc test (like Tukey’s HSD) to identify which groups are different.\")\n"
   ]
  },
  {
   "cell_type": "markdown",
   "metadata": {},
   "source": [
    "#### Non-parametric Tests\n",
    "When parametric assumptions are violated"
   ]
  },
  {
   "cell_type": "markdown",
   "metadata": {},
   "source": [
    "##### Mann-Whitney U Test\n",
    "Its used when the dependent variable is continuous or ordinal and the independent variable is binary.\n",
    "\n",
    "The Mann-Whitney U test (also known as the Wilcoxon rank-sum test) is a powerful non-parametric alternative to the independent t-test when parametric assumptions are violated. It evaluates whether two independent samples come from the same distribution without requiring normally distributed data.Don't use the test with matched pairs.\n",
    "\n",
    "While the Mann-Whitney U test identifies significant differences between distributions, it doesn't quantify the magnitude of these differences. For effect size measurement, complementary metrics are necessary like Cliff’s Delta and Rank-Biserial"
   ]
  },
  {
   "cell_type": "code",
   "execution_count": 25,
   "metadata": {},
   "outputs": [
    {
     "name": "stdout",
     "output_type": "stream",
     "text": [
      "Mann-Whitney U Test Statistic: 62175.0000, p-value: 9.612326962909258e-15\n",
      "Reject H0: Significant difference in fare distributions between genders.\n"
     ]
    }
   ],
   "source": [
    "# Select relevant columns and drop NaN values\n",
    "titanic = titanic[['sex', 'fare']].dropna()\n",
    "\n",
    "# Split fare data into groups based on gender\n",
    "fare_male = titanic[titanic['sex'] == 'male']['fare']\n",
    "fare_female = titanic[titanic['sex'] == 'female']['fare']\n",
    "\n",
    "# Perform Mann-Whitney U Test\n",
    "stat, p_value = stats.mannwhitneyu(fare_male, fare_female, alternative='two-sided')\n",
    "\n",
    "# Print results\n",
    "print(f\"Mann-Whitney U Test Statistic: {stat:.4f}, p-value: {p_value}\")\n",
    "\n",
    "# Interpretation\n",
    "if p_value > alpha:\n",
    "    print(\"Fail to reject H0: No significant difference in fare distributions between genders.The variable is likely not useful for predicting the target.\")\n",
    "else:\n",
    "    print(\"Reject H0: Significant difference in fare distributions between genders.Keep the variable\")\n"
   ]
  },
  {
   "cell_type": "markdown",
   "metadata": {},
   "source": [
    "##### Kruskal-Wallis H-test\n",
    "It is used when for 3+ categories, to test if a categorical variable significantly affects the target.\n",
    "Alternative to one-way ANOVA,compare three or more independent group.Since Kruskal-Wallis only tells us that there is a difference, we need to determine where the difference is : we use Dunn’s Test"
   ]
  },
  {
   "cell_type": "code",
   "execution_count": 27,
   "metadata": {},
   "outputs": [
    {
     "name": "stdout",
     "output_type": "stream",
     "text": [
      "Kruskal-Wallis H Test Statistic: 438.0437, p-value: 7.586096900646798e-96\n",
      "Reject H0: Significant difference in fare distributions among passenger classes.\n"
     ]
    }
   ],
   "source": [
    "# Perform Kruskal-Wallis H Test\n",
    "stat, p_value = stats.kruskal(fare_class1, fare_class2, fare_class3)\n",
    "\n",
    "# Print results\n",
    "print(f\"Kruskal-Wallis H Test Statistic: {stat:.4f}, p-value: {p_value}\")\n",
    "\n",
    "# Interpretation\n",
    "if p_value > alpha:\n",
    "    print(\"Fail to reject H0: No significant difference in fare distributions among passenger classes.The variable is likely not useful for predicting the target.\")\n",
    "else:\n",
    "    print(\"Reject H0: Significant difference in fare distributions among passenger classes. Likely useful for prediction.\")\n"
   ]
  },
  {
   "cell_type": "markdown",
   "metadata": {},
   "source": [
    "### Association Tests (Categorical Target with Categorical Features)\n",
    "This are Non-parametric tests: When parametric assumptions are violated"
   ]
  },
  {
   "cell_type": "markdown",
   "metadata": {},
   "source": [
    "#### Chi-Square Tests\n",
    "Used to analyze relationships between categorical variables. There are two common types:\n",
    "\n",
    "1️)Chi-Square Test for Independence – Checks whether two categorical variables are independent or related. You can Check Effect Size (Cramér’s V)\n",
    "\n",
    "2️)Chi-Square Goodness-of-Fit Test – Checks whether a sample distribution matches an expected distribution.\n",
    "\n",
    "Expected frequencies ≥ 5 in at least 80% of cases,  if not use Fisher’s Exact Test. The expected value in a contingency table represents the number of observations we would expect in each cell if there were no relationship between the two variables (i.e., under the null hypothesis)"
   ]
  },
  {
   "cell_type": "code",
   "execution_count": 17,
   "metadata": {},
   "outputs": [
    {
     "name": "stdout",
     "output_type": "stream",
     "text": [
      "Observed Contingency Table:\n",
      " survived    0    1\n",
      "pclass            \n",
      "1          80  136\n",
      "2          97   87\n",
      "3         372  119\n",
      "Chi-Square Test for Independence\n",
      "Chi-Square Statistic: 102.8890\n",
      "Degrees of Freedom: 2\n",
      "P-value: 4.549251711298793e-23\n",
      "Reject H0: Survival is dependent on Passenger Class.\n"
     ]
    }
   ],
   "source": [
    "# Case 1)\n",
    "\n",
    "import pandas as pd\n",
    "import seaborn as sns\n",
    "from scipy.stats import chi2_contingency\n",
    "\n",
    "# Load Titanic dataset\n",
    "titanic = sns.load_dataset(\"titanic\")\n",
    "\n",
    "# Create a contingency table (cross-tabulation)\n",
    "contingency_table = pd.crosstab(titanic['pclass'], titanic['survived'])\n",
    "print(\"Observed Contingency Table:\\n\", contingency_table)\n",
    "\n",
    "# Perform Chi-Square Test\n",
    "chi2, p_value, dof, expected = chi2_contingency(contingency_table)\n",
    "\n",
    "# Print Results\n",
    "print(\"Chi-Square Test for Independence\")\n",
    "print(f\"Chi-Square Statistic: {chi2:.4f}\")\n",
    "print(f\"Degrees of Freedom: {dof}\")\n",
    "print(f\"P-value: {p_value}\")\n",
    "\n",
    "# Interpretation\n",
    "alpha = 0.05\n",
    "if p_value > alpha:\n",
    "    print(\"Fail to reject H0: Survival is independent of Passenger Class.Feature may not be useful\")\n",
    "else:\n",
    "    print(\"Reject H0: Survival is dependent on Passenger Class.Feature is statistically associated with the target.\")\n"
   ]
  },
  {
   "cell_type": "code",
   "execution_count": 31,
   "metadata": {},
   "outputs": [
    {
     "name": "stdout",
     "output_type": "stream",
     "text": [
      "\n",
      "Chi-Square Goodness-of-Fit Test\n",
      "Chi-Square Statistic: 191.8047\n",
      "P-value: 2.239420223102885e-42\n",
      "Reject H0: The class distribution does not match the expected uniform distribution.\n"
     ]
    }
   ],
   "source": [
    "# Case 2)\n",
    "from scipy.stats import chisquare\n",
    "\n",
    "# Count passengers in each class\n",
    "observed_counts = titanic['pclass'].value_counts().sort_index()\n",
    "\n",
    "# Assume we expect an equal number of passengers in each class\n",
    "expected_counts = [len(titanic) / 3] * 3  # Equal distribution assumption\n",
    "\n",
    "# Perform Chi-Square Goodness-of-Fit Test\n",
    "chi2, p_value = chisquare(observed_counts, expected_counts)\n",
    "\n",
    "# Print Results\n",
    "print(\"\\nChi-Square Goodness-of-Fit Test\")\n",
    "print(f\"Chi-Square Statistic: {chi2:.4f}\")\n",
    "print(f\"P-value: {p_value}\")\n",
    "\n",
    "# Interpretation\n",
    "if p_value > alpha:\n",
    "    print(\"Fail to reject H0: The class distribution matches the expected uniform distribution.\")\n",
    "else:\n",
    "    print(\"Reject H0: The class distribution does not match the expected uniform distribution.\")\n"
   ]
  },
  {
   "cell_type": "markdown",
   "metadata": {},
   "source": [
    "#### Fisher’s Exact Test\n",
    "Used to analyze relationships between categorical variables.Use more in small samples.Preferred when Chi-Square assumptions are violated"
   ]
  },
  {
   "cell_type": "code",
   "execution_count": 16,
   "metadata": {},
   "outputs": [
    {
     "name": "stdout",
     "output_type": "stream",
     "text": [
      "Contingency Table:\n",
      " survived   No  Yes\n",
      "sex               \n",
      "Female     81  233\n",
      "Male      468  109\n",
      "\n",
      "Fisher's Exact Test Results:\n",
      "Odds Ratio: 0.0810\n",
      "P-value: 0.000000\n",
      "Conclusion: There is a significant association between gender and survival (Reject H0).\n"
     ]
    },
    {
     "name": "stderr",
     "output_type": "stream",
     "text": [
      "/var/folders/x_/gjdjch3n18b_znsmwt0_wm2w0000gn/T/ipykernel_1876/2813530288.py:5: FutureWarning: Setting an item of incompatible dtype is deprecated and will raise in a future error of pandas. Value '[0 1 1 1 0 0 0 0 1 1 1 1 0 0 0 1 0 1 0 1 0 1 1 1 0 1 0 0 1 0 0 1 1 0 0 0 1\n",
      " 0 0 1 0 0 0 1 1 0 0 1 0 0 0 0 1 1 0 1 1 0 1 0 0 1 0 0 0 1 1 0 1 0 0 0 0 0\n",
      " 1 0 0 0 1 1 0 1 1 0 1 1 0 0 1 0 0 0 0 0 0 0 0 1 1 0 0 0 0 0 0 0 1 1 0 1 0\n",
      " 0 0 0 0 0 0 0 0 0 0 0 0 1 0 1 0 1 1 0 0 0 0 1 0 0 1 0 0 0 0 1 1 0 0 0 1 0\n",
      " 0 0 0 1 0 0 0 0 1 0 0 0 0 1 0 0 0 1 1 0 0 0 0 0 1 0 0 0 0 0 0 0 0 0 0 1 1\n",
      " 0 1 1 0 0 1 0 1 1 1 1 0 0 1 0 0 0 0 0 1 0 0 1 1 1 0 1 0 0 0 1 1 0 1 0 1 0\n",
      " 0 0 1 0 1 0 0 0 1 0 0 1 0 0 0 1 0 0 0 1 0 0 0 0 0 1 1 0 0 0 0 0 0 1 1 1 1\n",
      " 1 0 1 0 0 0 0 0 1 1 1 0 1 1 0 1 1 0 0 0 1 0 0 0 1 0 0 1 0 1 1 1 1 0 0 0 0\n",
      " 0 0 1 1 1 1 0 1 0 1 1 1 0 1 1 1 0 0 0 1 1 0 1 1 0 0 1 1 0 1 0 1 1 1 1 0 0\n",
      " 0 1 0 0 1 1 0 1 1 0 0 0 1 1 1 1 0 0 0 0 0 0 0 1 0 1 1 0 0 0 0 0 0 1 1 1 1\n",
      " 1 0 0 0 0 1 1 0 0 0 1 1 0 1 0 0 0 1 0 1 1 1 0 1 1 0 0 0 0 1 1 0 0 0 0 0 0\n",
      " 1 0 0 0 0 1 0 1 0 1 1 0 0 0 0 0 0 0 0 1 1 0 1 1 1 1 0 0 1 0 1 0 0 1 0 0 1\n",
      " 1 1 1 1 1 1 0 0 0 1 0 1 0 1 1 0 1 0 0 0 0 0 0 0 0 1 0 0 1 1 0 0 0 0 0 1 0\n",
      " 0 0 1 1 0 1 0 0 1 0 0 0 0 0 0 1 0 0 0 0 0 0 0 1 0 1 1 0 1 1 0 1 1 0 0 1 0\n",
      " 1 0 1 0 0 1 0 0 1 0 0 0 1 0 0 1 0 1 0 1 0 1 1 0 0 1 0 0 1 1 0 1 1 0 0 1 1\n",
      " 0 1 0 1 1 0 0 0 0 0 0 0 0 0 1 1 1 1 1 0 0 1 1 0 1 1 1 0 0 0 1 0 1 0 0 0 1\n",
      " 0 0 0 0 1 0 0 1 1 0 0 0 1 0 0 1 1 1 0 0 1 0 0 1 0 0 1 0 0 1 1 0 0 0 0 1 0\n",
      " 0 1 0 1 0 0 1 0 0 0 0 0 1 0 1 1 1 0 1 0 1 0 1 0 1 0 0 0 0 0 0 1 0 0 0 1 0\n",
      " 0 0 0 1 1 0 0 1 0 0 0 1 0 1 0 1 0 0 0 0 0 0 0 1 1 1 1 0 0 0 0 1 0 0 1 1 0\n",
      " 0 0 0 1 1 1 1 1 0 1 0 0 0 1 1 0 0 1 0 0 0 1 0 1 1 0 0 1 0 0 0 0 0 0 1 0 0\n",
      " 1 0 1 0 1 0 0 1 0 0 1 1 0 0 1 1 0 0 0 1 0 0 1 1 0 1 0 0 0 0 0 0 0 0 1 0 0\n",
      " 1 0 1 1 1 0 0 0 0 1 0 1 0 0 0 0 0 0 0 1 1 0 0 0 1 1 1 1 0 0 0 0 1 0 0 0 0\n",
      " 0 0 0 0 0 0 1 1 0 1 0 0 0 1 1 1 1 1 0 0 0 1 0 0 1 1 0 0 1 0 0 0 0 0 0 1 0\n",
      " 0 0 1 0 1 1 1 1 0 0 0 1 0 0 1 1 0 0 1 0 1 0 0 1 1 0 0 0 1 1 0 0 0 0 0 0 1\n",
      " 0 1 0]' has dtype incompatible with int64, please explicitly cast to a compatible dtype first.\n",
      "  df.loc[:, 'survived'] = df['survived'].astype(object)\n"
     ]
    }
   ],
   "source": [
    "# Select relevant columns (Survived and Sex)\n",
    "df = titanic[['survived', 'sex']]\n",
    "\n",
    "# Convert categorical variables to numerical\n",
    "df.loc[:, 'survived'] = df['survived'].astype(object)\n",
    "df.loc[:, 'sex'] = df['sex'].astype(object)\n",
    "df.loc[:, 'survived']= df['survived'].map({0: 'No', 1: 'Yes'})\n",
    "df.loc[:, 'sex']= df['sex'].map({'male': 'Male', 'female': 'Female'})\n",
    "\n",
    "\n",
    "# Create contingency table\n",
    "contingency_table = pd.crosstab(df['sex'], df['survived'])\n",
    "print(\"Contingency Table:\\n\", contingency_table)\n",
    "\n",
    "# Perform Fisher's Exact Test\n",
    "odds_ratio, p_value = stats.fisher_exact(contingency_table)\n",
    "\n",
    "# Display results\n",
    "print(\"\\nFisher's Exact Test Results:\")\n",
    "print(f\"Odds Ratio: {odds_ratio:.4f}\")\n",
    "print(f\"P-value: {p_value:.6f}\")\n",
    "\n",
    "# Interpretation\n",
    "alpha = 0.05  # Significance level\n",
    "if p_value < alpha:\n",
    "    print(\"Conclusion: There is a significant association between gender and survival (Reject H0).\")\n",
    "else:\n",
    "    print(\"Conclusion: No significant association found (Fail to reject H0).\")\n",
    "\n"
   ]
  },
  {
   "cell_type": "markdown",
   "metadata": {},
   "source": [
    "### Information-Based Tests (Categorical Target with Any Feature Type)\n",
    "This are Non-parametric Tests: When parametric assumptions are violated"
   ]
  },
  {
   "cell_type": "markdown",
   "metadata": {},
   "source": [
    "#### Mutual Information\n",
    "Mutual Information (MI) represents a robust information-theoretic measure that quantifies the statistical dependency between variables. Unlike correlation coefficients that primarily detect linear relationships, MI effectively captures both linear and non-linear dependencies.It tells us how much knowing one variable reduces the uncertainty of another.\n",
    "\n",
    "Works for both categorical and continuous variables without assumption constraints, captures non-linear and lineal relationships and scale its irrelevant.\n",
    "\n",
    "Interpretation:\n",
    "- MI = 0 → No relationship between variables.\n",
    "- Higher MI Score (closer to 1): Strong dependency, indicating the feature contains substantial information about the target variable\n",
    "\n",
    "Requirements:\n",
    "- Handle missing values (imputation or removal).\n",
    "- Encode categorical variables appropriately\n",
    "- Consider discretization for continuous variables when necessary.\n",
    "- May require optimization techniques for high-dimensional datasets\n",
    "\n",
    "\n",
    "\n",
    "\n",
    "\n",
    "\n"
   ]
  },
  {
   "cell_type": "code",
   "execution_count": null,
   "metadata": {},
   "outputs": [
    {
     "name": "stderr",
     "output_type": "stream",
     "text": [
      "/var/folders/x_/gjdjch3n18b_znsmwt0_wm2w0000gn/T/ipykernel_1876/2992902499.py:16: FutureWarning: Downcasting object dtype arrays on .fillna, .ffill, .bfill is deprecated and will change in a future version. Call result.infer_objects(copy=False) instead. To opt-in to the future behavior, set `pd.set_option('future.no_silent_downcasting', True)`\n",
      "  df[categorical_cols] = df[categorical_cols].fillna('Unknown')\n",
      "/var/folders/x_/gjdjch3n18b_znsmwt0_wm2w0000gn/T/ipykernel_1876/2992902499.py:42: FutureWarning: \n",
      "\n",
      "Passing `palette` without assigning `hue` is deprecated and will be removed in v0.14.0. Assign the `y` variable to `hue` and set `legend=False` for the same effect.\n",
      "\n",
      "  sns.barplot(x='Mutual Information', y='Feature', data=mi_results, palette='viridis')\n"
     ]
    },
    {
     "data": {
      "image/png": "[encoded data removed]",
      "text/plain": [
       "<Figure size 1000x500 with 1 Axes>"
      ]
     },
     "metadata": {},
     "output_type": "display_data"
    },
    {
     "name": "stdout",
     "output_type": "stream",
     "text": [
      "\n",
      "Mutual Information Scores:\n",
      "      Feature  Mutual Information\n",
      "7  adult_male            0.160577\n",
      "1         sex            0.150870\n",
      "5        fare            0.121446\n",
      "6       class            0.058107\n",
      "0      pclass            0.053849\n",
      "3       sibsp            0.046024\n",
      "2         age            0.027444\n",
      "4       parch            0.018096\n"
     ]
    }
   ],
   "source": [
    "import pandas as pd\n",
    "import numpy as np\n",
    "from sklearn.feature_selection import mutual_info_classif\n",
    "from sklearn.preprocessing import LabelEncoder\n",
    "import seaborn as sns\n",
    "import matplotlib.pyplot as plt\n",
    "\n",
    "# Load Titanic dataset\n",
    "df = sns.load_dataset('titanic')\n",
    "# Load Titanic dataset\n",
    "df = sns.load_dataset('titanic')\n",
    "# Drop columns that are not useful for modeling\n",
    "df = df.drop(columns=['deck', 'embark_town', 'alive', \"alone\", \"who\",\"embarked\"])\n",
    "\n",
    "#Handle missing values for numeric columns\n",
    "numeric_cols = df.select_dtypes(include=['int64', 'float64']).columns\n",
    "df[numeric_cols] = df[numeric_cols].fillna(df[numeric_cols].median())\n",
    "\n",
    "# Fill missing categorical values with 'Unknown'\n",
    "categorical_cols = df.select_dtypes(include=['object',\"category\",\"bool\"]).columns.astype('object')\n",
    "# Convert categorical columns to object type (if not already object)\n",
    "df[categorical_cols] = df[categorical_cols].astype('object')\n",
    "\n",
    "# Fill missing categorical values with 'Unknown'\n",
    "df[categorical_cols] = df[categorical_cols].fillna('Unknown')\n",
    "\n",
    "\n",
    "# Create a copy of the dataframe for feature selection\n",
    "X = df.drop(columns=['survived'])\n",
    "y = df['survived']\n",
    "\n",
    "# Convert categorical variables to numeric using Label Encoding\n",
    "X_encoded = X.copy()\n",
    "le = LabelEncoder()\n",
    "for col in categorical_cols:\n",
    "    if col in X_encoded.columns:  # Only encode if column exists in X\n",
    "        X_encoded[col] = le.fit_transform(X_encoded[col].astype(str))\n",
    "\n",
    "# Create array indicating which features are discrete\n",
    "discrete_features = [True if col in categorical_cols else False for col in X_encoded.columns]\n",
    "\n",
    "# Compute Mutual Information\n",
    "mi_scores = mutual_info_classif(X_encoded, y, discrete_features=discrete_features)\n",
    "\n",
    "# Store results in a DataFrame\n",
    "mi_results = pd.DataFrame({'Feature': X_encoded.columns, 'Mutual Information': mi_scores})\n",
    "mi_results = mi_results.sort_values(by='Mutual Information', ascending=False)\n",
    "\n",
    "# Display results\n",
    "plt.figure(figsize=(10, 5))\n",
    "sns.barplot(x='Mutual Information', y='Feature', data=mi_results, palette='viridis')\n",
    "plt.title('Mutual Information Scores for Titanic Dataset Features')\n",
    "plt.tight_layout()\n",
    "plt.show()\n",
    "\n",
    "print(\"\\nMutual Information Scores:\")\n",
    "print(mi_results)\n"
   ]
  },
  {
   "cell_type": "markdown",
   "metadata": {},
   "source": [
    "# Statistical Techniques for independent variables"
   ]
  },
  {
   "cell_type": "markdown",
   "metadata": {},
   "source": [
    "### Collinearity Analysis\n",
    "High collinearity harms regression models and some other machine learning models. It occurs when two or more independent variables are highly correlated, meaning they provide redundant information.\n",
    "\n",
    " Mitigating Multicollinearity:\n",
    "- Drop one of the correlated variables manually (preferably the one with lower importance, low variance or completeness).\n",
    "- Dimensionality Reduction: Use PCA to transform features into uncorrelated components.\n",
    "- Regularization Techniques: Lasso Regression L1 to penalize collinearity (performs feature selection by forcing some coefficients to exactly zero),Ridge Regression R2 (Retains all variables but reduces their impact) and Elastic Net (combines L1 and L2 penalties, so balances feature selection and coefficient shrinkage)."
   ]
  },
  {
   "cell_type": "markdown",
   "metadata": {},
   "source": [
    "#### VIF\n",
    "\n",
    "Detects high correlation between independent variables (multicollinearity).Its focus is more for regresion models but also use it when collinearity can affect the performance of the model.\n",
    "\n",
    "Interpretation:\n",
    "- VIF > 10 → Strong multicollinearity → Remove the variable.\n",
    "- VIF between 5-10 → Moderate collinearity → Consider removing or transforming the variable.\n",
    "- VIF < 5 → No severe collinearity → Safe to keep.\n",
    "\n",
    "If VIF is high for multiple features → Use PCA or feature engineering to reduce dimensionality. Numerical variables (categorical features need encoding first) "
   ]
  },
  {
   "cell_type": "code",
   "execution_count": 1,
   "metadata": {},
   "outputs": [
    {
     "ename": "NameError",
     "evalue": "name 'titanic' is not defined",
     "output_type": "error",
     "traceback": [
      "\u001b[0;31m---------------------------------------------------------------------------\u001b[0m",
      "\u001b[0;31mNameError\u001b[0m                                 Traceback (most recent call last)",
      "Cell \u001b[0;32mIn[1], line 5\u001b[0m\n\u001b[1;32m      2\u001b[0m \u001b[38;5;28;01mfrom\u001b[39;00m \u001b[38;5;21;01msklearn\u001b[39;00m\u001b[38;5;21;01m.\u001b[39;00m\u001b[38;5;21;01mpreprocessing\u001b[39;00m \u001b[38;5;28;01mimport\u001b[39;00m LabelEncoder\n\u001b[1;32m      4\u001b[0m  \u001b[38;5;66;03m#Select relevant features\u001b[39;00m\n\u001b[0;32m----> 5\u001b[0m df \u001b[38;5;241m=\u001b[39m titanic[[\u001b[38;5;124m'\u001b[39m\u001b[38;5;124mpclass\u001b[39m\u001b[38;5;124m'\u001b[39m, \u001b[38;5;124m'\u001b[39m\u001b[38;5;124mage\u001b[39m\u001b[38;5;124m'\u001b[39m, \u001b[38;5;124m'\u001b[39m\u001b[38;5;124msibsp\u001b[39m\u001b[38;5;124m'\u001b[39m, \u001b[38;5;124m'\u001b[39m\u001b[38;5;124mparch\u001b[39m\u001b[38;5;124m'\u001b[39m, \u001b[38;5;124m'\u001b[39m\u001b[38;5;124mfare\u001b[39m\u001b[38;5;124m'\u001b[39m, \u001b[38;5;124m'\u001b[39m\u001b[38;5;124msex\u001b[39m\u001b[38;5;124m'\u001b[39m, \u001b[38;5;124m'\u001b[39m\u001b[38;5;124membarked\u001b[39m\u001b[38;5;124m'\u001b[39m]]\n\u001b[1;32m      7\u001b[0m \u001b[38;5;66;03m# Handle missing values\u001b[39;00m\n\u001b[1;32m      8\u001b[0m df\u001b[38;5;241m.\u001b[39mdropna(inplace\u001b[38;5;241m=\u001b[39m\u001b[38;5;28;01mTrue\u001b[39;00m)\n",
      "\u001b[0;31mNameError\u001b[0m: name 'titanic' is not defined"
     ]
    }
   ],
   "source": [
    "from statsmodels.stats.outliers_influence import variance_inflation_factor\n",
    "from sklearn.preprocessing import LabelEncoder\n",
    "\n",
    " #Select relevant features\n",
    "df = titanic[['pclass', 'age', 'sibsp', 'parch', 'fare', 'sex', 'embarked']]\n",
    "\n",
    "# Handle missing values\n",
    "df.dropna(inplace=True)\n",
    "\n",
    "# Encode categorical variables\n",
    "label_enc = LabelEncoder()\n",
    "df['sex'] = label_enc.fit_transform(df['sex'])  # Male=1, Female=0\n",
    "df['embarked'] = label_enc.fit_transform(df['embarked'])  # Convert C, Q, S to numbers\n",
    "# Compute VIF for each independent variable\n",
    "vif_data = pd.DataFrame()\n",
    "vif_data['Feature'] = df.columns\n",
    "vif_data['VIF'] = [variance_inflation_factor(df.values, i) for i in range(df.shape[1])]\n",
    "\n",
    "# Display VIF results\n",
    "print(vif_data)\n",
    "\n",
    "sns.heatmap(df.corr(), annot=True, cmap=\"coolwarm\")\n",
    "plt.title(\"Feature Correlation Matrix\")\n",
    "plt.show()"
   ]
  },
  {
   "cell_type": "markdown",
   "metadata": {},
   "source": [
    "#### Correlation Matrix Analysis\n",
    "Use techniques as pearson but in this case instead of leaving the variable if has lineal relationship , think of might removing one (|r| > 0.5)  more if > 0.8\n",
    "\n",
    "While simpler than VIF, correlation matrices provide valuable visual insights into pairwise relationships."
   ]
  },
  {
   "cell_type": "markdown",
   "metadata": {},
   "source": [
    "#### Chi Square\n",
    "Understanding relationships between 2 categorical predictors, this means there is or not a statistically significant association between the two variables. \n",
    "If independent (p > 0.05): Keep both variables (they provide separate information), if not use Cramér’s V or Phi Coefficient to measure the strength of the association between the two variables."
   ]
  }
 ],
 "metadata": {
  "kernelspec": {
   "display_name": "base",
   "language": "python",
   "name": "python3"
  },
  "language_info": {
   "codemirror_mode": {
    "name": "ipython",
    "version": 3
   },
   "file_extension": ".py",
   "mimetype": "text/x-python",
   "name": "python",
   "nbconvert_exporter": "python",
   "pygments_lexer": "ipython3",
   "version": "3.12.7"
  }
 },
 "nbformat": 4,
 "nbformat_minor": 2
}
