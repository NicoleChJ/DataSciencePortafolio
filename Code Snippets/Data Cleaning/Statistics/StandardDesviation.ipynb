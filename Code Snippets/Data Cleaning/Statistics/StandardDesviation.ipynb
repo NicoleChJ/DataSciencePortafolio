{
 "cells": [
  {
   "cell_type": "markdown",
   "metadata": {},
   "source": [
    "# Standard Desviation\n",
    "\n",
    "- Population Standard Deviation is used when the dataset represents the entire population σ.\n",
    "- Sample Standard Deviation is used when the dataset is a sample of a larger population s.\n",
    "\n",
    "Pandas and Statistics uses Sampling Standard Deviation by default i.e the denominator of the equation is N - 1 instead of N.\n",
    "\n",
    "Numpy uses Population Standard Deviation by default. i.e the denominator of the equation in N instead of N - 1. \n",
    "With the parameter ddof: \"Delta Degrees of Freedom\" if ddof=1 you're calculating np.std() for a sample taken from your full dataset.And else if you are calculating on the full dataset and NOT a sample of it, then use ddof=0. The DDOF is included for samples in order to counterbalance bias that can occur in the numbers.\n"
   ]
  },
  {
   "cell_type": "code",
   "execution_count": 1,
   "metadata": {},
   "outputs": [
    {
     "name": "stdout",
     "output_type": "stream",
     "text": [
      "1.3693063937629153\n"
     ]
    },
    {
     "data": {
      "text/plain": [
       "' statistics.stdev uses Sampling Standard Deviation. i.e the denominator of the equation is N - 1 instead of N '"
      ]
     },
     "execution_count": 1,
     "metadata": {},
     "output_type": "execute_result"
    }
   ],
   "source": [
    "import statistics\n",
    "\n",
    "arr = [1, 1.5, 2, 2.5, 3, 3.5, 4, 4.5, 5]\n",
    "\n",
    "print(statistics.stdev(arr))\n",
    "\n",
    "# 1.3693063937629153\n"
   ]
  },
  {
   "cell_type": "code",
   "execution_count": 2,
   "metadata": {},
   "outputs": [
    {
     "name": "stdout",
     "output_type": "stream",
     "text": [
      "1.3693063937629153\n"
     ]
    }
   ],
   "source": [
    "import pandas as pd\n",
    "\n",
    "arr = [1, 1.5, 2, 2.5, 3, 3.5, 4, 4.5, 5]\n",
    "\n",
    "pandas_series = pd.Series(arr)\n",
    "\n",
    "print(pandas_series.std())\n",
    "\n",
    "# 1.3693063937629153"
   ]
  },
  {
   "cell_type": "code",
   "execution_count": null,
   "metadata": {},
   "outputs": [],
   "source": [
    "import numpy as np\n",
    "\n",
    "arr = [1, 1.5, 2, 2.5, 3, 3.5, 4, 4.5, 5]\n",
    "\n",
    "print(np.std(arr))\n",
    "\n",
    "# 1.2909944487358056\n",
    "\n",
    "print(np.std(arr, ddof=1))\n",
    "\n",
    "# 1.3693063937629153\n"
   ]
  }
 ],
 "metadata": {
  "kernelspec": {
   "display_name": "llms",
   "language": "python",
   "name": "python3"
  },
  "language_info": {
   "codemirror_mode": {
    "name": "ipython",
    "version": 3
   },
   "file_extension": ".py",
   "mimetype": "text/x-python",
   "name": "python",
   "nbconvert_exporter": "python",
   "pygments_lexer": "ipython3",
   "version": "3.11.11"
  }
 },
 "nbformat": 4,
 "nbformat_minor": 2
}
