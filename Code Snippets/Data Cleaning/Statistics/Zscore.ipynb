{
 "cells": [
  {
   "cell_type": "code",
   "execution_count": 3,
   "metadata": {},
   "outputs": [
    {
     "name": "stdout",
     "output_type": "stream",
     "text": [
      "Z-Scores: [-1.73205081 -0.8660254  -0.8660254   0.          0.          0.\n",
      "  0.8660254   0.8660254   1.73205081]\n",
      "Outliers: []\n",
      "Cleaned Data: [1 2 2 3 3 3 4 4 5]\n"
     ]
    }
   ],
   "source": [
    "from scipy.stats import zscore\n",
    "import numpy as np\n",
    "\n",
    "# Example data\n",
    "data = np.array([1, 2, 2, 3, 3, 3, 4, 4, 5])\n",
    "\n",
    "# Calculate Z-scores\n",
    "z_scores = zscore(data)\n",
    "\n",
    "# Define outlier threshold (e.g., |Z| > 3)\n",
    "outliers = data[np.abs(z_scores) > 3]\n",
    "cleaned_data = data[np.abs(z_scores) <= 3]\n",
    "\n",
    "print(\"Z-Scores:\", z_scores)\n",
    "print(\"Outliers:\", outliers)\n",
    "print(\"Cleaned Data:\", cleaned_data)"
   ]
  }
 ],
 "metadata": {
  "kernelspec": {
   "display_name": "llms",
   "language": "python",
   "name": "python3"
  },
  "language_info": {
   "codemirror_mode": {
    "name": "ipython",
    "version": 3
   },
   "file_extension": ".py",
   "mimetype": "text/x-python",
   "name": "python",
   "nbconvert_exporter": "python",
   "pygments_lexer": "ipython3",
   "version": "3.11.11"
  }
 },
 "nbformat": 4,
 "nbformat_minor": 2
}
