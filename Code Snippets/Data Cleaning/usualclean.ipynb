{
 "cells": [
  {
   "cell_type": "code",
   "execution_count": null,
   "metadata": {},
   "outputs": [],
   "source": [
    "#Standardizing Text\n",
    "\n",
    "df['Sex'] = df['Sex'].str.strip() # Remove leading and trailing spaces\n",
    "\n",
    "df['name'] = df['name'].str.lower()# Convert to lowercase \n",
    "df['category'] = df['category'].str.upper()\n",
    "\n",
    "df['text'] = df['text'].apply(lambda x: re.sub(r'[^\\w\\s]', '', x)) # Remove special characters (e.g., !, @, .)\n"
   ]
  },
  {
   "cell_type": "code",
   "execution_count": null,
   "metadata": {},
   "outputs": [],
   "source": [
    "# Rename columns\n",
    "df = df.rename(columns={'old_name': 'new_name'})\n",
    "\n",
    "# Drop irrelevant columns\n",
    "df = df.drop(columns=['id_column', 'constant_column'])"
   ]
  },
  {
   "cell_type": "code",
   "execution_count": null,
   "metadata": {},
   "outputs": [],
   "source": [
    "# Extract features (e.g., year, month, day)\n",
    "df['year'] = df['date_column'].dt.year\n",
    "df['month'] = df['date_column'].dt.month\n",
    "df['day'] = df['date_column'].dt.day"
   ]
  },
  {
   "cell_type": "code",
   "execution_count": null,
   "metadata": {},
   "outputs": [],
   "source": [
    "# Filter rows based on a condition\n",
    "df = df[df['value'] > 200]"
   ]
  },
  {
   "cell_type": "code",
   "execution_count": null,
   "metadata": {},
   "outputs": [
    {
     "name": "stdout",
     "output_type": "stream",
     "text": [
      "Original DataFrame:\n",
      "      name        date  value\n",
      "0    Alice  2023-01-01    100\n",
      "1      Bob  2023-02-15    200\n",
      "2  Charlie  2023-03-10    150\n",
      "3    Alice  2023-01-01    100\n",
      "4      Bob  2023-04-20    200\n",
      "5    David  2023-05-05    400\n",
      "6      Eve  2023-06-01    250\n",
      "7    Frank  2023-07-15    350\n",
      "8    Grace  2023-08-20    450\n",
      "9    Alice  2023-01-01    100\n",
      "\n",
      "Number of duplicate rows: 3\n",
      "Duplicate rows:\n",
      "    name        date  value\n",
      "0  Alice  2023-01-01    100\n",
      "3  Alice  2023-01-01    100\n",
      "9  Alice  2023-01-01    100\n",
      "\n",
      "Number of duplicate rows: 5\n",
      "Duplicate rows:\n",
      "    name        date  value\n",
      "0  Alice  2023-01-01    100\n",
      "1    Bob  2023-02-15    200\n",
      "3  Alice  2023-01-01    100\n",
      "4    Bob  2023-04-20    200\n",
      "9  Alice  2023-01-01    100\n"
     ]
    }
   ],
   "source": [
    "# Duplicates\n",
    "\n",
    "import pandas as pd\n",
    "\n",
    "data = {\n",
    "    'name': ['Alice', 'Bob', 'Charlie', 'Alice', 'Bob', 'David', 'Eve', 'Frank', 'Grace', 'Alice'],\n",
    "    'date': ['2023-01-01', '2023-02-15', '2023-03-10', '2023-01-01', '2023-04-20', '2023-05-05', '2023-06-01', '2023-07-15', '2023-08-20', '2023-01-01'],\n",
    "    'value': [100, 200, 150, 100, 200, 400, 250, 350, 450, 100]\n",
    "}\n",
    "\n",
    "\n",
    "df = pd.DataFrame(data)  # Create DataFrame\n",
    "print(\"Original DataFrame:\")\n",
    "print(df)\n",
    "\n",
    "\n",
    "duplicates = df[df.duplicated(keep=False)]  # Identify duplicate rows based on all columns `keep=False` marks all duplicates as True\n",
    "num_duplicates = len(duplicates) # Count the number of duplicate rows\n",
    "print(f\"\\nNumber of duplicate rows: {num_duplicates}\")\n",
    "print(\"Duplicate rows:\")\n",
    "print(duplicates)\n",
    "\n",
    "df_cleaned = df.drop_duplicates()\n",
    "\n",
    "\n",
    "#You can specify a subset of columns to check for duplicates \n",
    "duplicates = df[df.duplicated(subset=['value','name'],keep=False)]\n",
    "num_duplicates = len(duplicates)\n",
    "print(f\"\\nNumber of duplicate rows: {num_duplicates}\")\n",
    "print(\"Duplicate rows:\")\n",
    "print(duplicates)\n"
   ]
  },
  {
   "cell_type": "code",
   "execution_count": null,
   "metadata": {},
   "outputs": [
    {
     "name": "stdout",
     "output_type": "stream",
     "text": [
      "name             object\n",
      "date     datetime64[ns]\n",
      "value           float64\n",
      "dtype: object\n",
      "name             object\n",
      "date     datetime64[ns]\n",
      "value           float64\n",
      "dtype: object\n"
     ]
    }
   ],
   "source": [
    "# Transform type of columns\n",
    "\n",
    "print(df.dtypes)\n",
    "df['date'] = pd.to_datetime(df['date']) #String to datetime\n",
    "\n",
    "df['value'] = df['value'].astype(float)\n",
    "\n",
    "df['date'] = pd.to_datetime(df['date'], errors='coerce').dt.strftime('%Y-%m-%d')\n",
    "\n",
    "print(df.dtypes)"
   ]
  },
  {
   "cell_type": "code",
   "execution_count": null,
   "metadata": {},
   "outputs": [
    {
     "name": "stdout",
     "output_type": "stream",
     "text": [
      "      id     name   age gender   income\n",
      "0    1.0    Alice  25.0      F   1000.0\n",
      "1    2.0      Bob  30.0      M   2000.0\n",
      "2    3.0  Charlie  35.0      M   1500.0\n",
      "3    4.0    Alice   NaN      F   1000.0\n",
      "4    5.0      Bob  40.0      M   3000.0\n",
      "5    6.0    David  45.0      M      NaN\n",
      "6    7.0      Eve  50.0      F   2500.0\n",
      "7    8.0    Frank  55.0      M   3500.0\n",
      "8    9.0    Grace  60.0      F   4500.0\n",
      "9   10.0   Robert  65.0    NaN   5000.0\n",
      "10   NaN      NaN  32.0      M    200.0\n",
      "11  11.0   Nicole  59.0      M  15000.0\n",
      "id        1\n",
      "name      1\n",
      "age       1\n",
      "gender    1\n",
      "income    1\n",
      "dtype: int64\n",
      "id        0\n",
      "name      0\n",
      "age       0\n",
      "gender    0\n",
      "income    0\n",
      "dtype: int64\n",
      "      id     name   age gender   income\n",
      "0    1.0    Alice  25.0      F   1000.0\n",
      "1    2.0      Bob  30.0      M   2000.0\n",
      "2    3.0  Charlie  35.0      M   1500.0\n",
      "4    5.0      Bob  40.0      M   3000.0\n",
      "5    6.0    David  45.0      M      0.0\n",
      "6    7.0      Eve  50.0      F   2500.0\n",
      "7    8.0    Frank  55.0      M   3500.0\n",
      "8    9.0    Grace  60.0      F   4500.0\n",
      "11  11.0   Nicole  59.0      M  15000.0\n"
     ]
    }
   ],
   "source": [
    "# Mising values\n",
    "\n",
    "import pandas as pd\n",
    "import numpy as np\n",
    "\n",
    "data = {\n",
    "    'id': [1, 2, 3, 4, 5, 6, 7, 8, 9, 10,np.nan,11],\n",
    "    'name': ['Alice', 'Bob', 'Charlie', 'Alice', 'Bob', 'David', 'Eve', 'Frank', 'Grace', 'Robert',np.nan,'Nicole'],\n",
    "    'age': [25, 30, 35, np.nan, 40, 45, 50, 55, 60, 65,32,59],\n",
    "    'gender': ['F', 'M', 'M', 'F', 'M', 'M', 'F', 'M', 'F', np.nan,'M','M'],\n",
    "    'income': [1000, 2000, 1500, 1000, 3000, np.nan, 2500, 3500, 4500, 5000,200,15000]\n",
    "}\n",
    "\n",
    "df = pd.DataFrame(data)\n",
    "print(df)\n",
    "\n",
    "# Verify missing values are removed\n",
    "print(df.isnull().sum())\n",
    "\n",
    "\n",
    "# Drop rows where any categorical column has missing values\n",
    "categorical_cols = ['gender']\n",
    "df = df.dropna(subset=categorical_cols)\n",
    "#print(df.isnull().sum())\n",
    "\n",
    "\n",
    "# Fill missing values with a specific value (e.g., 0)\n",
    "df['income'] = df['income'].fillna(0)\n",
    "df['gender'] = df['gender'].fillna('undefined')\n",
    "\n",
    "# Fill missing values with the mean (for numerical columns)\n",
    "df['column_name'] = df['column_name'].fillna(df['column_name'].mean())\n",
    "\n",
    "# Drop rows with missing values\n",
    "df = df.dropna()\n",
    "print(df.isnull().sum())\n",
    "print(df)\n",
    "\n"
   ]
  }
 ],
 "metadata": {
  "kernelspec": {
   "display_name": "base",
   "language": "python",
   "name": "python3"
  },
  "language_info": {
   "codemirror_mode": {
    "name": "ipython",
    "version": 3
   },
   "file_extension": ".py",
   "mimetype": "text/x-python",
   "name": "python",
   "nbconvert_exporter": "python",
   "pygments_lexer": "ipython3",
   "version": "3.12.7"
  }
 },
 "nbformat": 4,
 "nbformat_minor": 2
}
