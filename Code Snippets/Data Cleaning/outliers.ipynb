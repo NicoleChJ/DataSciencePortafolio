{
 "cells": [
  {
   "cell_type": "markdown",
   "metadata": {},
   "source": [
    "# Remove outliers\n",
    "\n",
    "1. Interquartile Range (IQR): data is not normally distributed or when it contains skewness.\n",
    "\n",
    "\n",
    "2. The Z-Score is a statistical measure that quantifies how many standard deviations a data point lies from the mean of a dataset. It is based on the properties of the normal distribution.In a normal distribution:\n",
    "- About 68% of data lies within ± 1 SD.\n",
    "- About 95% of data lies within ±2 SD.\n",
    "- About 99.7% of data lies within ±3 SD.\n",
    "The 3-sigma rule (∣Z∣ > 3) is widely used to flag data points that fall outside the expected range in a normal distribution it may warrant further investigation or removal, depending on the context of the analysis.\n",
    "\n",
    "3. Standard Desviation \n",
    "- Population Standard Deviation is used when the dataset represents the entire population σ.\n",
    "- Sample Standard Deviation is used when the dataset is a sample of a larger population s.\n",
    "\n",
    "Pandas and Statistics uses Sampling Standard Deviation by default i.e the denominator of the equation is N - 1, instead of N.\n",
    "Numpy uses Population Standard Deviation by default. i.e the denominator of the equation in N instead of N - 1. \n",
    "With the parameter ddof: \"Delta Degrees of Freedom\" if ddof=1 you're calculating np.std() for a sample taken from your full dataset.And else if you are calculating on the full dataset and NOT a sample of it, then use ddof=0. The DDOF is included for samples in order to counterbalance bias that can occur in the numbers.\n",
    "\n",
    "\n",
    "\n",
    "You can always try to use a model less sensitive to outliers.\n",
    "\n"
   ]
  },
  {
   "cell_type": "code",
   "execution_count": null,
   "metadata": {},
   "outputs": [
    {
     "name": "stdout",
     "output_type": "stream",
     "text": [
      "Original Data: [10, 12, 11, 13, 14, 15, 100]\n",
      "Filtered Data (IQR): [10, 12, 11, 13, 14, 15]\n"
     ]
    }
   ],
   "source": [
    "# Interquartile Range (IQR)\n",
    "\n",
    "import numpy as np\n",
    "\n",
    "\n",
    "data = [10, 12, 11, 13, 14, 15, 100]\n",
    "\n",
    "# Calculate Q1, Q3, and IQR\n",
    "Q1 = np.percentile(data, 25) #df['numerical_column'].quantile(0.25)\n",
    "Q3 = np.percentile(data, 75) #df['numerical_column'].quantile(0.75)\n",
    "IQR = Q3 - Q1\n",
    "\n",
    "# Define bounds\n",
    "lower_bound = Q1 - 1.5 * IQR\n",
    "upper_bound = Q3 + 1.5 * IQR\n",
    "\n",
    "# Remove outliers\n",
    "filtered_data = [x for x in data if lower_bound <= x <= upper_bound]\n",
    "\n",
    "print(\"Original Data:\", data)\n",
    "print(\"Filtered Data (IQR):\", filtered_data)"
   ]
  },
  {
   "cell_type": "code",
   "execution_count": 1,
   "metadata": {},
   "outputs": [
    {
     "name": "stdout",
     "output_type": "stream",
     "text": [
      "Original Data: [  10   12   12   13   12   14   13   15   14 1000]\n",
      "Z-Scores: [-0.34270901 -0.33595612 -0.33595612 -0.33257968 -0.33595612 -0.32920323\n",
      " -0.33257968 -0.32582679 -0.32920323  2.99996998]\n",
      "Outliers: []\n",
      "Cleaned Data: [  10   12   12   13   12   14   13   15   14 1000]\n"
     ]
    }
   ],
   "source": [
    "#Zscore\n",
    "\n",
    "from scipy.stats import zscore\n",
    "import numpy as np\n",
    "\n",
    "# Example dataset with outliers\n",
    "data = np.array([10, 12, 12, 13, 12, 14, 13, 15, 14, 1000])  # 1000 is an outlier\n",
    "\n",
    "# Step 1: Calculate Z-scores\n",
    "z_scores = zscore(data)\n",
    "\n",
    "# Step 2: Define outlier threshold (e.g., |Z| > 3)\n",
    "outliers = data[np.abs(z_scores) > 3]\n",
    "cleaned_data = data[np.abs(z_scores) <= 3]\n",
    "\n",
    "# Step 3: Display results\n",
    "print(\"Original Data:\", data)\n",
    "print(\"Z-Scores:\", z_scores)\n",
    "print(\"Outliers:\", outliers)\n",
    "print(\"Cleaned Data:\", cleaned_data)"
   ]
  },
  {
   "cell_type": "markdown",
   "metadata": {},
   "source": [
    "The Z-score formula is sensitive to the mean and standard deviation of the data. If the outlier significantly affects these values, the Z-scores may not be calculated correctly.\n",
    "Robust Statistics: Use median and MAD for outlier detection if the dataset contains extreme outliers. this methods are less sensitive to outliers."
   ]
  },
  {
   "cell_type": "code",
   "execution_count": null,
   "metadata": {},
   "outputs": [
    {
     "name": "stdout",
     "output_type": "stream",
     "text": [
      "Original Data: [  10   12   12   13   12   14   13   15   14 1000]\n",
      "Robust Z-Scores: [ -3.  -1.  -1.   0.  -1.   1.   0.   2.   1. 987.]\n",
      "Outliers: [1000]\n",
      "Cleaned Data: [10 12 12 13 12 14 13 15 14]\n"
     ]
    }
   ],
   "source": [
    "\n",
    "#Zscore\n",
    "\n",
    "from scipy.stats import median_abs_deviation\n",
    "\n",
    "# Example dataset with outliers\n",
    "data = np.array([10, 12, 12, 13, 12, 14, 13, 15, 14, 1000])  # 1000 is an outlier\n",
    "\n",
    "# Step 1: Calculate median and MAD\n",
    "median = np.median(data)\n",
    "mad = median_abs_deviation(data)\n",
    "\n",
    "# Step 2: Calculate robust Z-scores\n",
    "robust_z_scores = (data - median) / mad\n",
    "\n",
    "# Step 3: Define outlier threshold (e.g., |Z| > 3)\n",
    "outliers = data[np.abs(robust_z_scores) > 3]\n",
    "cleaned_data = data[np.abs(robust_z_scores) <= 3]\n",
    "\n",
    "# Step 4: Display results\n",
    "print(\"Original Data:\", data)\n",
    "print(\"Robust Z-Scores:\", robust_z_scores)\n",
    "print(\"Outliers:\", outliers)\n",
    "print(\"Cleaned Data:\", cleaned_data)"
   ]
  },
  {
   "cell_type": "code",
   "execution_count": 3,
   "metadata": {},
   "outputs": [
    {
     "name": "stdout",
     "output_type": "stream",
     "text": [
      "Original Data: [1, 1.5, 2, 2.5, 3, 3.5, 4, 4.5, 5, 100]\n",
      "Mean: 12.7\n",
      "Sample Standard Deviation: 30.701248617387968\n",
      "Lower Bound: -48.70249723477593\n",
      "Upper Bound: 74.10249723477594\n",
      "Cleaned Data: [1, 1.5, 2, 2.5, 3, 3.5, 4, 4.5, 5]\n"
     ]
    }
   ],
   "source": [
    "#Standard Desviation\n",
    "\n",
    "import statistics\n",
    "\n",
    "# Example dataset\n",
    "arr = [1, 1.5, 2, 2.5, 3, 3.5, 4, 4.5, 5, 100]  # 100 is an outlier\n",
    "\n",
    "# Calculate mean and sample standard deviation\n",
    "mean = statistics.mean(arr)\n",
    "std_dev = statistics.stdev(arr)\n",
    "\n",
    "# Define outlier threshold (e.g., ±2 standard deviations from the mean)\n",
    "threshold = 2\n",
    "lower_bound = mean - threshold * std_dev\n",
    "upper_bound = mean + threshold * std_dev\n",
    "\n",
    "# Remove outliers\n",
    "cleaned_data = [x for x in arr if lower_bound <= x <= upper_bound]\n",
    "\n",
    "# Display results\n",
    "print(\"Original Data:\", arr)\n",
    "print(\"Mean:\", mean)\n",
    "print(\"Sample Standard Deviation:\", std_dev)\n",
    "print(\"Lower Bound:\", lower_bound)\n",
    "print(\"Upper Bound:\", upper_bound)\n",
    "print(\"Cleaned Data:\", cleaned_data)"
   ]
  },
  {
   "cell_type": "code",
   "execution_count": 4,
   "metadata": {},
   "outputs": [
    {
     "name": "stdout",
     "output_type": "stream",
     "text": [
      "Original Data: [1, 1.5, 2, 2.5, 3, 3.5, 4, 4.5, 5, 100]\n",
      "Mean: 12.7\n",
      "Sample Standard Deviation: 30.701248617387964\n",
      "Lower Bound: -48.70249723477593\n",
      "Upper Bound: 74.10249723477592\n",
      "Cleaned Data: [1.0, 1.5, 2.0, 2.5, 3.0, 3.5, 4.0, 4.5, 5.0]\n"
     ]
    }
   ],
   "source": [
    "#Standard Desviation\n",
    "import pandas as pd\n",
    "\n",
    "# Example dataset\n",
    "arr = [1, 1.5, 2, 2.5, 3, 3.5, 4, 4.5, 5, 100]  # 100 is an outlier\n",
    "\n",
    "# Convert to pandas Series\n",
    "pandas_series = pd.Series(arr)\n",
    "\n",
    "# Calculate mean and sample standard deviation\n",
    "mean = pandas_series.mean()\n",
    "std_dev = pandas_series.std()\n",
    "\n",
    "# Define outlier threshold (e.g., ±2 standard deviations from the mean)\n",
    "threshold = 2\n",
    "lower_bound = mean - threshold * std_dev\n",
    "upper_bound = mean + threshold * std_dev\n",
    "\n",
    "# Remove outliers\n",
    "cleaned_data = pandas_series[(pandas_series >= lower_bound) & (pandas_series <= upper_bound)]\n",
    "\n",
    "# Display results\n",
    "print(\"Original Data:\", arr)\n",
    "print(\"Mean:\", mean)\n",
    "print(\"Sample Standard Deviation:\", std_dev)\n",
    "print(\"Lower Bound:\", lower_bound)\n",
    "print(\"Upper Bound:\", upper_bound)\n",
    "print(\"Cleaned Data:\", cleaned_data.tolist())"
   ]
  },
  {
   "cell_type": "code",
   "execution_count": 1,
   "metadata": {},
   "outputs": [
    {
     "name": "stdout",
     "output_type": "stream",
     "text": [
      "Dataset: [1, 1.5, 2, 2.5, 3, 3.5, 4, 4.5, 5, 100]\n",
      "Data Types: [<class 'int'>, <class 'float'>, <class 'int'>, <class 'float'>, <class 'int'>, <class 'float'>, <class 'int'>, <class 'float'>, <class 'int'>, <class 'int'>]\n",
      "=== Population Standard Deviation ===\n",
      "Original Data: [1, 1.5, 2, 2.5, 3, 3.5, 4, 4.5, 5, 100]\n",
      "Mean: 12.7\n",
      "Population Standard Deviation: 29.12576179261239\n",
      "Lower Bound (Population): -45.551523585224786\n",
      "Upper Bound (Population): 70.95152358522478\n",
      "Cleaned Data (Population): [1, 1.5, 2, 2.5, 3, 3.5, 4, 4.5, 5]\n",
      "\n",
      "=== Sample Standard Deviation ===\n",
      "Mean: 12.7\n",
      "Sample Standard Deviation: 30.701248617387964\n",
      "Lower Bound (Sample): -48.70249723477593\n",
      "Upper Bound (Sample): 74.10249723477592\n",
      "Cleaned Data (Sample): [1, 1.5, 2, 2.5, 3, 3.5, 4, 4.5, 5]\n"
     ]
    }
   ],
   "source": [
    "#Standard Desviation\n",
    "import numpy as np\n",
    "\n",
    "# Example dataset\n",
    "arr = [1, 1.5, 2, 2.5, 3, 3.5, 4, 4.5, 5, 100]  # 100 is an outlier\n",
    "\n",
    "# Debug: Verify dataset\n",
    "print(\"Dataset:\", arr)\n",
    "print(\"Data Types:\", [type(x) for x in arr])\n",
    "\n",
    "# Calculate mean and population standard deviation\n",
    "mean = np.mean(arr)\n",
    "std_dev_population = np.std(arr)\n",
    "\n",
    "# Define outlier threshold (e.g., ±2 standard deviations from the mean)\n",
    "threshold = 2\n",
    "lower_bound_population = mean - threshold * std_dev_population\n",
    "upper_bound_population = mean + threshold * std_dev_population\n",
    "\n",
    "# Remove outliers\n",
    "cleaned_data_population = [x for x in arr if lower_bound_population <= x <= upper_bound_population]\n",
    "\n",
    "# Display results\n",
    "print(\"=== Population Standard Deviation ===\")\n",
    "print(\"Original Data:\", arr)\n",
    "print(\"Mean:\", mean)\n",
    "print(\"Population Standard Deviation:\", std_dev_population)\n",
    "print(\"Lower Bound (Population):\", lower_bound_population)\n",
    "print(\"Upper Bound (Population):\", upper_bound_population)\n",
    "print(\"Cleaned Data (Population):\", cleaned_data_population)\n",
    "\n",
    "# Calculate mean and sample standard deviation\n",
    "std_dev_sample = np.std(arr, ddof=1)\n",
    "\n",
    "# Define outlier threshold (e.g., ±2 standard deviations from the mean)\n",
    "lower_bound_sample = mean - threshold * std_dev_sample\n",
    "upper_bound_sample = mean + threshold * std_dev_sample\n",
    "\n",
    "# Remove outliers\n",
    "cleaned_data_sample = [x for x in arr if lower_bound_sample <= x <= upper_bound_sample]\n",
    "\n",
    "# Display results\n",
    "print(\"\\n=== Sample Standard Deviation ===\")\n",
    "print(\"Mean:\", mean)\n",
    "print(\"Sample Standard Deviation:\", std_dev_sample)\n",
    "print(\"Lower Bound (Sample):\", lower_bound_sample)\n",
    "print(\"Upper Bound (Sample):\", upper_bound_sample)\n",
    "print(\"Cleaned Data (Sample):\", cleaned_data_sample)"
   ]
  },
  {
   "cell_type": "code",
   "execution_count": null,
   "metadata": {},
   "outputs": [],
   "source": [
    "# Replace outliers with NaN (e.g., age > 100)\n",
    "df['age'] = np.where(df['age'] > 100, np.nan, df['age'])"
   ]
  }
 ],
 "metadata": {
  "kernelspec": {
   "display_name": "llms",
   "language": "python",
   "name": "python3"
  },
  "language_info": {
   "codemirror_mode": {
    "name": "ipython",
    "version": 3
   },
   "file_extension": ".py",
   "mimetype": "text/x-python",
   "name": "python",
   "nbconvert_exporter": "python",
   "pygments_lexer": "ipython3",
   "version": "3.11.11"
  }
 },
 "nbformat": 4,
 "nbformat_minor": 2
}
