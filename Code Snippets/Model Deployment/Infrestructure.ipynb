{
 "cells": [
  {
   "cell_type": "markdown",
   "metadata": {},
   "source": [
    "Once the model is packaged, it needs to be deployed using an appropriate infrastructure.To ensure smooth deployment across different environments, the model is often packaged using:\n",
    "- Virtual Environments: Use venv or conda to manage dependencies in different environments. \n",
    "- Model APIs: Expose the model via REST APIs using Flask, FastAPI, Django REST framework.\n",
    "- Containerization:\n",
    "    1) Docker: Enables portability, reproducibility and isolated environments. EPackages model, dependencies, and API into a lightweight container.\n",
    "    2) Kubernetes: For scaling deployments in cloud environments.\n",
    "- Selecting the appropriate deployment pattern, such as:\n",
    "    1) Batch Processing: Best for periodic predictions (e.g., fraud detection, risk analysis).\n",
    "    2) Real-Time Inference (APIs): For applications needing instant responses (e.g., recommendation systems, chatbots).\n",
    "    3) Edge Deployment : Running models on IoT or mobile devices (e.g., image recognition on phones).\n",
    "- Implementing Infrastructure as Code (IaC) (e.g., Terraform, AWS CloudFormation) for reproducible deployments.\n",
    "- Cloud-Specific Deployment:\n",
    "    1) AWS: Deploy via SageMaker, Lambda, ECS/Fargate, S3 (batch), API Gateway.\n",
    "    2) Azure: Use Azure ML, Azure Functions, AKS (Kubernetes), Azure Batch.\n",
    "    3) GCP: Deploy with Vertex AI, Cloud Functions, AI Platform, Cloud Run.\n",
    "    4) On-Premise / Hybrid: Use Kubernetes (K8s), OpenShift, MLflow for flexible deployments.\n",
    "\n"
   ]
  },
  {
   "cell_type": "code",
   "execution_count": null,
   "metadata": {},
   "outputs": [],
   "source": [
    "# Deploying a model as an API with FastAPI: When you need real-time inference.Also good for web aplications\n",
    "##Create a Flask API for the model \n",
    "\n",
    "from flask import Flask, request, jsonify\n",
    "import joblib\n",
    "import numpy as np\n",
    "\n",
    "app = Flask(__name__)\n",
    "\n",
    "# Load the trained model\n",
    "model = joblib.load('random_forest.pkl')\n",
    "\n",
    "@app.route('/predict', methods=['POST'])\n",
    "def predict():\n",
    "    data = request.json\n",
    "    prediction = model.predict(np.array(data[\"features\"]).reshape(1, -1))\n",
    "    return jsonify({'prediction': int(prediction[0])})\n",
    "\n",
    "if __name__ == '__main__':\n",
    "    app.run(host='0.0.0.0', port=5000)\n",
    "\n"
   ]
  }
 ],
 "metadata": {
  "kernelspec": {
   "display_name": "base",
   "language": "python",
   "name": "python3"
  },
  "language_info": {
   "name": "python",
   "version": "3.12.7"
  }
 },
 "nbformat": 4,
 "nbformat_minor": 2
}
