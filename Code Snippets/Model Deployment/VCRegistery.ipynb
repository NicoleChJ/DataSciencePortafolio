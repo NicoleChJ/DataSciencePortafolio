{
 "cells": [
  {
   "cell_type": "markdown",
   "metadata": {},
   "source": [
    "## Version Control and Model Registry\n",
    "\n",
    "Version Control for Models and Artifacts:  model versions and their associated artifacts is crucial for experiments, reproducibility, and rollback in case of failure. \n",
    "- Git LFS: Store large model files (>100MB)\n",
    "- DVC\t(Data Version Control):\tTrack models & datasets with Git\n",
    "- MLflow Tracking :\tTrack models, experiments, metadata\n",
    "- GitHub Releases:\tTag specific model versions.Use Git tags or branches to track different model versions.\n",
    "- GitHub: Store trained models (.joblib, .onnx, .pkl) in a dedicated repository.\n",
    "\n",
    "| Tool  | Purpose  | Pros | Cons |\n",
    "|:------|:------:|------:|------:|\n",
    "| Git LFS | Store large model files (>100MB)| Works with Git, handles large files efficiently| Requires Git LFS installation |\n",
    "| DVC (Data Version Control) | Track models & datasets with Git| Efficient for ML projects, integrates with GitHub| Additional setup required|\n",
    "\n",
    "\n",
    "Create a model registry stores different versions of trained models and tracks which ones are deployed.\n",
    "\n",
    "- MLflow Model Registry – Centralized model tracking & deployment history.\n",
    "- Azure ML Model Registry – If using Azure Cloud for ML lifecycle management.\n",
    "- Amazon SageMaker Model Registry – If deploying models in AWS.\n",
    "- GitHub: Use a README.md to document deployed models (date, metrics, changes).Use GitHub Releases to tag final versions for deployment.Automate deployment tracking with GitHub Actions."
   ]
  }
 ],
 "metadata": {
  "language_info": {
   "name": "python"
  }
 },
 "nbformat": 4,
 "nbformat_minor": 2
}
