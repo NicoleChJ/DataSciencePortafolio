{
 "cells": [
  {
   "cell_type": "markdown",
   "metadata": {},
   "source": [
    "## Version Control and Model Registry\n",
    "\n",
    "### Version Control for Models and Artifacts:  \n",
    "Model versions and their associated artifacts is crucial for experiments, reproducibility, and rollback in case of failure. \n",
    "\n",
    "\n",
    "| Tool  | Purpose  | Pros | Cons |\n",
    "|:------|:------:|------:|------:|\n",
    "| Git LFS | Store large model files (>100MB)| Works with Git, handles large files efficiently| Requires Git LFS installation |\n",
    "| * DVC (Data Version Control) | Track models & datasets with Git| Efficient for ML projects, integrates with GitHub| Additional setup required|\n",
    "| MLflow Tracking | Log experiments, parameters, and models| GUI for experiment comparison, integrates with cloud| Needs MLflow server for full functionality |\n",
    "| GitHub Releases| Tag and store specific model versions.Use Git tags or branches to track different model versions.| Simple, integrates with GitHub Actions| No built-in experiment tracking|\n",
    "| GitHub Repo| Store trained models (.joblib, .onnx, .pkl)| Easy to share models, integrates with CI/CD| No automated metadata tracking |\n",
    "\n",
    "\n",
    "### Model Registry for Deployment Tracking\n",
    "\n",
    "A model registry stores different trained models, tracks their metadata, and manages deployment history. So it helps for: Centralized storage – and deployment tracking (Monitor which model is in production).\n",
    "\n",
    "\n",
    "| Tool  | Purpose  | Pros | Cons |\n",
    "|:------|:------:|------:|------:|\n",
    "| MLflow Model Registry| Centralized model tracking & deployment history| Integrated with MLflow, versioning built-in| Requires MLflow setup|\n",
    "| Azure ML Model Registry | Cloud-based model registry| Works with Azure Pipelines| Tied to Azure ecosystem|\n",
    "| Amazon SageMaker Model Registry| AWS-native model tracking| Scales with AWS infrastructure| Requires AWS account|\n",
    "| GitHub Releases | Track model versions manually and tag final versions for deployment.Use a README.md to document deployed models (date, metrics, changes).| Simple, integrates with GitHub Actions| No automatic tracking |\n",
    "\n",
    "\n",
    "\n",
    "1) Best Approach for On-Service Models (Self-Hosted, Edge AI, On-Premise)\n",
    "These models run on local servers, on-premises infrastructure, or edge devices, meaning they require self-managed version control and storage.\n",
    "\n",
    "    - Use DVC to track models and datasets alongside Git.\n",
    "    - Store artifacts locally or in a shared network drive.\n",
    "    - Use MLflow locally for experiment tracking.\n",
    "    - GitHub Releases can be used for tracking model versions.\n",
    "\n",
    "2) Best Approach for Cloud-Based Models (AWS, Azure, GCP)\n",
    "Cloud models scale dynamically and often use managed services to simplify versioning and tracking.\n",
    "    - Use MLflow Tracking + Model Registry for logging and versioning.\n",
    "    - Store models in cloud storage (AWS S3, Azure Blob, Google Cloud Storage).\n",
    "    - Deploy as serverless APIs (AWS Lambda, Azure Functions, Vertex AI Endpoints).\n",
    "    - Automate CI/CD with Cloud Pipelines (AWS SageMaker Pipelines, Azure ML Pipelines).\n",
    "\n",
    "\n",
    "### Final Recommendations\n",
    "\n",
    "| Scenario  | Best Approach  | Cons  |  Pro  |\n",
    "|:------|:------:|:------:|:------:|\n",
    "| You need full control, low-latency, and offline capability  | On-Premise: DVC + Git + Self-hosted API  |Limited scalability. Requires manual infrastructure maintenance. Complex model versioning without cloud tools  |Cost-Efficient Training if you have the hardware.Data Privacy & Security.Full control over data & security | \n",
    "| You need scalable, managed infrastructure  | Cloud-based: MLflow + Cloud Model Registry + Pipelines |Higher costs for cloud resources. Vendor lock in | Scales automatically.Seamless CI/CD with pipelines  | \n",
    "| You want a hybrid approach (local training, cloud deployment)  | Train locally with DVC/MLflow, deploy on SageMaker/Azure ML | Hardware Dependency for training and uploading large trained models to the cloud can be slow |Cost-Efficient Training if you have the hardware. Data Privacy & Security. No vendor lock in. Lower Cloud Storage Costs. Auto scaling  | "
   ]
  }
 ],
 "metadata": {
  "language_info": {
   "name": "python"
  }
 },
 "nbformat": 4,
 "nbformat_minor": 2
}
