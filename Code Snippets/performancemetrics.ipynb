{
 "cells": [
  {
   "cell_type": "markdown",
   "metadata": {},
   "source": [
    "Metrics:\n",
    "Classification: Accuracy, precision, recall, F1-score, ROC-AUC.\n",
    "Regression: RMSE, MAE, R².\n",
    "Clustering: Silhouette score, Davies-Bouldin index.\n",
    "Time Series: Mean Absolute Percentage Error (MAPE), AIC, BIC.\n",
    "Confusion Matrix: For classification problems, use a confusion matrix to visualize true positives, false positives, etc.\n",
    "Learning Curves: Plot training and validation performance over time to diagnose overfitting or underfitting."
   ]
  }
 ],
 "metadata": {
  "language_info": {
   "name": "python"
  }
 },
 "nbformat": 4,
 "nbformat_minor": 2
}
